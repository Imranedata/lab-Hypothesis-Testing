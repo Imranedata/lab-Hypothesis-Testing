{
 "cells": [
  {
   "cell_type": "markdown",
   "metadata": {
    "id": "xjI20x84zSx2"
   },
   "source": [
    "# Before you start:\n",
    "- Read the README.md file\n",
    "- Comment as much as you can and use the resources (README.md file)\n",
    "- Happy learning!"
   ]
  },
  {
   "cell_type": "code",
   "execution_count": 1,
   "metadata": {
    "colab": {
     "base_uri": "https://localhost:8080/"
    },
    "id": "uzAOTQfoz15Q",
    "outputId": "9597f4c2-a277-4c68-a984-a22cd1d353c6"
   },
   "outputs": [],
   "source": [
    "#!pip install -U scipy"
   ]
  },
  {
   "cell_type": "code",
   "execution_count": 2,
   "metadata": {
    "id": "PIKv798RzSx6"
   },
   "outputs": [],
   "source": [
    "import numpy as np\n",
    "import pandas as pd"
   ]
  },
  {
   "cell_type": "markdown",
   "metadata": {
    "id": "GvMX-v1TzSx7"
   },
   "source": [
    "# Challenge 1 - Exploring the Data\n",
    "\n",
    "In this challenge, we will examine all salaries of employees of the San Francisco. We will start by loading the dataset and examining its contents. "
   ]
  },
  {
   "cell_type": "code",
   "execution_count": 71,
   "metadata": {
    "colab": {
     "base_uri": "https://localhost:8080/"
    },
    "id": "jx8dpv-xzSx8",
    "outputId": "c1a35f3c-afb6-4b20-d774-06bbdca465ea"
   },
   "outputs": [
    {
     "name": "stderr",
     "output_type": "stream",
     "text": [
      "C:\\Users\\imran\\AppData\\Local\\Temp\\ipykernel_20376\\408572184.py:3: DtypeWarning: Columns (3,4,5,6,12) have mixed types. Specify dtype option on import or set low_memory=False.\n",
      "  salaries_df = pd.read_csv(file_path)\n"
     ]
    }
   ],
   "source": [
    "\n",
    "file_path = \"Salaries.csv\"\n",
    "\n",
    "salaries_df = pd.read_csv(file_path)\n"
   ]
  },
  {
   "cell_type": "markdown",
   "metadata": {
    "id": "28njElH1zSx9"
   },
   "source": [
    "Examine the `salaries` dataset using the `head` function below."
   ]
  },
  {
   "cell_type": "code",
   "execution_count": 4,
   "metadata": {},
   "outputs": [
    {
     "name": "stdout",
     "output_type": "stream",
     "text": [
      "   Id       EmployeeName                                        JobTitle  \\\n",
      "0   1     NATHANIEL FORD  GENERAL MANAGER-METROPOLITAN TRANSIT AUTHORITY   \n",
      "1   2       GARY JIMENEZ                 CAPTAIN III (POLICE DEPARTMENT)   \n",
      "2   3     ALBERT PARDINI                 CAPTAIN III (POLICE DEPARTMENT)   \n",
      "3   4  CHRISTOPHER CHONG            WIRE ROPE CABLE MAINTENANCE MECHANIC   \n",
      "4   5    PATRICK GARDNER    DEPUTY CHIEF OF DEPARTMENT,(FIRE DEPARTMENT)   \n",
      "\n",
      "     BasePay OvertimePay   OtherPay Benefits   TotalPay  TotalPayBenefits  \\\n",
      "0  167411.18         0.0  400184.25      NaN  567595.43         567595.43   \n",
      "1  155966.02   245131.88  137811.38      NaN  538909.28         538909.28   \n",
      "2  212739.13   106088.18    16452.6      NaN  335279.91         335279.91   \n",
      "3    77916.0    56120.71   198306.9      NaN  332343.61         332343.61   \n",
      "4   134401.6      9737.0  182234.59      NaN  326373.19         326373.19   \n",
      "\n",
      "   Year  Notes         Agency Status  \n",
      "0  2011    NaN  San Francisco    NaN  \n",
      "1  2011    NaN  San Francisco    NaN  \n",
      "2  2011    NaN  San Francisco    NaN  \n",
      "3  2011    NaN  San Francisco    NaN  \n",
      "4  2011    NaN  San Francisco    NaN  \n"
     ]
    }
   ],
   "source": [
    "print(salaries_df.head())"
   ]
  },
  {
   "cell_type": "code",
   "execution_count": null,
   "metadata": {
    "colab": {
     "base_uri": "https://localhost:8080/",
     "height": 530
    },
    "id": "MtrTvrTMzSx9",
    "outputId": "0dae2341-f13f-4cbe-a9ee-93804e23d1c0"
   },
   "outputs": [],
   "source": []
  },
  {
   "cell_type": "markdown",
   "metadata": {
    "id": "78ppeI4czSx-"
   },
   "source": [
    "We see from looking at the `head` function that there is quite a bit of missing data. Get the amount of missing data in every column"
   ]
  },
  {
   "cell_type": "code",
   "execution_count": 5,
   "metadata": {},
   "outputs": [
    {
     "data": {
      "text/plain": [
       "Id                       0\n",
       "EmployeeName             0\n",
       "JobTitle                 0\n",
       "BasePay                605\n",
       "OvertimePay              0\n",
       "OtherPay                 0\n",
       "Benefits             36159\n",
       "TotalPay                 0\n",
       "TotalPayBenefits         0\n",
       "Year                     0\n",
       "Notes               148654\n",
       "Agency                   0\n",
       "Status              110535\n",
       "dtype: int64"
      ]
     },
     "execution_count": 5,
     "metadata": {},
     "output_type": "execute_result"
    }
   ],
   "source": [
    "salaries_df.isnull().sum()"
   ]
  },
  {
   "cell_type": "markdown",
   "metadata": {
    "id": "P7_uHi3nzSx_"
   },
   "source": [
    "Get the shape of the dataframe"
   ]
  },
  {
   "cell_type": "code",
   "execution_count": 6,
   "metadata": {
    "colab": {
     "base_uri": "https://localhost:8080/"
    },
    "id": "_cJvEdTgzSx_",
    "outputId": "61a90101-4466-42db-fc53-b2be109f586d"
   },
   "outputs": [
    {
     "data": {
      "text/plain": [
       "(148654, 13)"
      ]
     },
     "execution_count": 6,
     "metadata": {},
     "output_type": "execute_result"
    }
   ],
   "source": [
    "salaries_df.shape"
   ]
  },
  {
   "cell_type": "markdown",
   "metadata": {
    "id": "Dvi-WtBNzSyA"
   },
   "source": [
    "Given output of the previous two cells, drop the corresponding column and compute again the amount of missing values."
   ]
  },
  {
   "cell_type": "code",
   "execution_count": 7,
   "metadata": {},
   "outputs": [
    {
     "name": "stdout",
     "output_type": "stream",
     "text": [
      "Id                       0\n",
      "EmployeeName             0\n",
      "JobTitle                 0\n",
      "BasePay                605\n",
      "OvertimePay              0\n",
      "OtherPay                 0\n",
      "Benefits             36159\n",
      "TotalPay                 0\n",
      "TotalPayBenefits         0\n",
      "Year                     0\n",
      "Notes               148654\n",
      "Agency                   0\n",
      "Status              110535\n",
      "dtype: int64\n"
     ]
    }
   ],
   "source": [
    "#salaries_df.drop(\"Notes\", axis=1, inplace=True)\n",
    "\n",
    "missing_data_count_after_drop = salaries_df.isnull().sum()\n",
    "print(missing_data_count_after_drop)"
   ]
  },
  {
   "cell_type": "code",
   "execution_count": 8,
   "metadata": {
    "colab": {
     "base_uri": "https://localhost:8080/"
    },
    "id": "qOynt6ZkzSyA",
    "outputId": "6e80e3ba-a79a-402d-e2be-996a8ab13c77"
   },
   "outputs": [
    {
     "name": "stdout",
     "output_type": "stream",
     "text": [
      "Index(['Id', 'EmployeeName', 'JobTitle', 'BasePay', 'OvertimePay', 'OtherPay',\n",
      "       'Benefits', 'TotalPay', 'TotalPayBenefits', 'Year', 'Notes', 'Agency',\n",
      "       'Status'],\n",
      "      dtype='object')\n"
     ]
    }
   ],
   "source": [
    "print(salaries_df.columns)"
   ]
  },
  {
   "cell_type": "markdown",
   "metadata": {
    "id": "wrIJFfY4zSyB"
   },
   "source": [
    "Check out what are the possible values of the column \"Status\"."
   ]
  },
  {
   "cell_type": "code",
   "execution_count": 9,
   "metadata": {},
   "outputs": [
    {
     "name": "stdout",
     "output_type": "stream",
     "text": [
      "[nan 'PT' 'FT']\n"
     ]
    }
   ],
   "source": [
    "status_values = salaries_df['Status'].unique()\n",
    "print(status_values)"
   ]
  },
  {
   "cell_type": "code",
   "execution_count": null,
   "metadata": {
    "colab": {
     "base_uri": "https://localhost:8080/"
    },
    "id": "3-rUObH9zSyB",
    "outputId": "8d9b940d-694c-401b-8535-d390e829acdc"
   },
   "outputs": [],
   "source": []
  },
  {
   "cell_type": "code",
   "execution_count": null,
   "metadata": {},
   "outputs": [],
   "source": []
  },
  {
   "cell_type": "markdown",
   "metadata": {
    "id": "s7c1YgwUzSyC"
   },
   "source": [
    "Drop any row with missing values in the \"Status\" column and compute again the number of missing values."
   ]
  },
  {
   "cell_type": "code",
   "execution_count": 10,
   "metadata": {},
   "outputs": [
    {
     "name": "stdout",
     "output_type": "stream",
     "text": [
      "Id                      0\n",
      "EmployeeName            0\n",
      "JobTitle                0\n",
      "BasePay                 0\n",
      "OvertimePay             0\n",
      "OtherPay                0\n",
      "Benefits                0\n",
      "TotalPay                0\n",
      "TotalPayBenefits        0\n",
      "Year                    0\n",
      "Notes               38119\n",
      "Agency                  0\n",
      "Status                  0\n",
      "dtype: int64\n"
     ]
    }
   ],
   "source": [
    "salaries_df.dropna(subset=['Status'], inplace=True)\n",
    "\n",
    "missing_data_count_after_drop_status = salaries_df.isnull().sum()\n",
    "print(missing_data_count_after_drop_status)\n"
   ]
  },
  {
   "cell_type": "code",
   "execution_count": 11,
   "metadata": {
    "id": "RNuimPv6zSyC"
   },
   "outputs": [],
   "source": [
    "# Your code here"
   ]
  },
  {
   "cell_type": "code",
   "execution_count": null,
   "metadata": {
    "colab": {
     "base_uri": "https://localhost:8080/"
    },
    "id": "vZzzRW3ezSyC",
    "outputId": "719afa36-7982-4685-c606-195ea8e0f658"
   },
   "outputs": [],
   "source": []
  },
  {
   "cell_type": "markdown",
   "metadata": {
    "id": "rxOUWb9AzSyD"
   },
   "source": [
    "Check out the types of each column and see if they make sense."
   ]
  },
  {
   "cell_type": "code",
   "execution_count": 12,
   "metadata": {},
   "outputs": [
    {
     "name": "stdout",
     "output_type": "stream",
     "text": [
      "Id                    int64\n",
      "EmployeeName         object\n",
      "JobTitle             object\n",
      "BasePay              object\n",
      "OvertimePay          object\n",
      "OtherPay             object\n",
      "Benefits             object\n",
      "TotalPay            float64\n",
      "TotalPayBenefits    float64\n",
      "Year                  int64\n",
      "Notes               float64\n",
      "Agency               object\n",
      "Status               object\n",
      "dtype: object\n"
     ]
    }
   ],
   "source": [
    "column_data_types = salaries_df.dtypes\n",
    "print(column_data_types)"
   ]
  },
  {
   "cell_type": "code",
   "execution_count": 13,
   "metadata": {
    "colab": {
     "base_uri": "https://localhost:8080/"
    },
    "id": "MYtPT0MJzSyD",
    "outputId": "7fc00b2a-b36b-4e0d-fc11-3b87e284ce92"
   },
   "outputs": [
    {
     "name": "stdout",
     "output_type": "stream",
     "text": [
      "['Deputy Chief 3' 'Asst Med Examiner' 'Chief Investment Officer'\n",
      " 'Chief of Police' 'Chief, Fire Department' 'Dept Head V'\n",
      " 'Executive Contract Employee' 'Battalion Chief, Fire Suppress'\n",
      " 'Asst Chf of Dept (Fire Dept)' 'Gen Mgr, Public Trnsp Dept'\n",
      " 'Senior Physician Specialist' 'Commander 3' 'Dep Chf of Dept (Fire Dept)'\n",
      " 'Administrator, DPH' 'Mayor' 'Adm, SFGH Medical Center' 'Controller'\n",
      " 'Anesthetist' 'Dep Dir V' 'Port Director' 'Manager, Dept Public Health'\n",
      " 'Deputy Sheriff' 'Assistant Deputy Chief 2' 'Deputy Dir II, MTA'\n",
      " 'Firefighter' 'Emergency Medical Svcs Chief' 'Manager VIII'\n",
      " 'District Attorney' 'Inspector 3' 'Captain 3' 'Captain, Fire Suppression'\n",
      " 'Nursing Supervisor' 'Lieut,Fire Prev' 'Dept Head IV' 'City Attorney'\n",
      " 'EMT/Paramedic/Firefighter' 'Police Officer 3'\n",
      " 'Lieutenant, Fire Suppression' 'Sheriff (SFERS)' 'Dep Dir IV'\n",
      " 'Nurse Manager' 'Nursing Supervisor Psychiatric'\n",
      " 'Supervising Physician Spec' 'Captain, Emergency Med Svcs' 'Sergeant 3'\n",
      " 'Public Defender' 'Cfdntal Chf Atty 2,(Cvl&Crmnl)' 'Police Officer 2'\n",
      " 'Dept Head III' 'Capt,Fire Prev or Fire Invsgtn' 'Lieutenant 2'\n",
      " 'Chief Atty1 (Civil & Criminal)' 'Chief Forensic Toxicologist'\n",
      " 'Insp, Fire Dept' 'Dir Emp Relations Div' 'Special Assistant 21'\n",
      " 'Human Resources Director' 'Chief Adult Probation Officer'\n",
      " 'Assistant Chief Attorney 2' 'Manager VII' 'Nurse Practitioner'\n",
      " 'Mech Shop & Equip Supt' 'Lieutenant 3' 'Marine Engineer of Fire Boats'\n",
      " 'Pilot of Fire Boats' 'Special Assistant 22' 'Manager VIII, MTA'\n",
      " \"Sheriff's Lieutenant\" 'Assistant Chief Attorney 1'\n",
      " 'Diagnostic Imaging Tech III' 'Incident Support Specialist'\n",
      " 'Senior Deputy Sheriff' 'Electr Maint Tech Asst Sprv' 'Assistant Sheriff'\n",
      " 'Manager VI, MTA' 'Deputy Dir I, MTA' 'Manager VI'\n",
      " 'Engineer/Architect Principal' 'Project Manager 4' 'Dept Head II'\n",
      " 'Physician Specialist' 'Physician Assistant' 'Pharmacist'\n",
      " 'Head Atty, Civil & Criminal' 'Attorney (Civil/Criminal)'\n",
      " 'Electrical Transit Shop Sprv 1' 'Mayoral Staff XVII' 'Engineer'\n",
      " \"Sheriff's Sergeant\" 'Dept Head I' 'Architectural Associate 1'\n",
      " 'Dep Dir III' 'Clinical Nurse Specialist' 'Manager V'\n",
      " 'Chf Prob Ofc, Juv Court' 'Deputy Probation Officer'\n",
      " 'Eng/Arch/Landscape Arch Sr' 'Landscape Architect Assoc 2'\n",
      " 'IS Engineer-Principal' 'Sergeant 2' 'Head Park Patrol Officer'\n",
      " 'Heating/Ventilating Inspector' 'Manager VII, MTA'\n",
      " 'Electrical Transit System Mech' 'Track Maint Wrk Sprv 1' 'Assessor'\n",
      " 'IS Project Director' 'Chief Deputy Sheriff' 'Police Officer'\n",
      " 'Special Assistant 19' 'Registered Nurse' 'Fire Safety Inspector 2'\n",
      " 'Transit Supervisor' 'Board Scty, MTA' 'Senior Parking Control Officer'\n",
      " 'Treasurer' 'Assistant Inspector 3' 'Assoc Engineer'\n",
      " 'Sergeant, (Police Department)' 'Transit Power Line Sprv1'\n",
      " 'Project Manager 3' 'Diagnostic Imaging Tech II'\n",
      " 'Wire Rope Cable Maint Sprv' \"Sheriff's Captain\" 'Invstgtor,Fire Dept'\n",
      " 'Electrical Trnst Mech Sprv 1' 'Trnst Power Line Wrk Sprv 2'\n",
      " 'Radiologic Tech Sprv' 'Wire Rope Cable Maint Mechanic'\n",
      " 'Utility Plumber Supervisor 1' 'Clinical Pharmacist'\n",
      " 'Water Const&Main Supt' 'Electronic Maintenance Tech' 'Manager IV'\n",
      " 'Bldgs & Grounds Maint Supt' 'Welder' 'Supervising Pharmacist'\n",
      " 'IS Manager' 'Transit Operations Specialist'\n",
      " 'Chief Dep Adlt Prob Of (SFERS)' 'Inspector, (Police Department)'\n",
      " 'Electrl Trnst Mech, Asst Sprv' 'Airport Electrician' 'Dep Dir II'\n",
      " 'Chf District Atty Investigator' 'Manager III'\n",
      " 'Power Generation Supervisor' 'Trans and Dist Line Worker'\n",
      " 'Law Librarian' 'Transmission Line Supervisor 1'\n",
      " 'Automotive Mechanic Sprv 1' 'Transit Power Line Worker'\n",
      " 'IS Engineer-Senior' 'Manager,Employee Relations Div'\n",
      " 'Institutional Police Sergeant' 'Attorney, Tax Collector'\n",
      " 'Plumbing Inspector' 'Train Controller' 'Diagnostic Imaging Tech IV'\n",
      " 'Senior Comm Systems Technican' 'Utility Plumber Supervisor 2'\n",
      " 'Public SafetyComm Disp' 'Public Health Nurse'\n",
      " \"Med Examiner's InvestigatorIII\" 'Maintenance Machinist' 'Nurse Midwife'\n",
      " 'Manager V, MTA' 'Auto Body & Fender Wrk Sprv 1'\n",
      " 'Sprv Electronic Main Tech' 'Planner 5' 'Architectural Associate 2'\n",
      " 'Car and Auto Painter' 'Chief Water Service Inspector'\n",
      " 'Sr Light Rail Veh Equip Eng' 'Project Manager 2' 'Landscape Architect'\n",
      " 'Airport Operations Supervisor' 'Automotive Trnst Shop Sprv 1'\n",
      " 'Mayoral Staff XVI' 'Asst.Dep.Dir., Port' 'Manager II' 'Manager IV, MTA'\n",
      " \"Med Examiner's Investigator II\" 'Disability Access Coordinator'\n",
      " 'Fire Rescue Paramedic' 'IS Engineer-Journey'\n",
      " 'Health Program Coordinator 3' 'Transit Operator'\n",
      " 'Senior Museum Registrar' 'Transit Manager 2' 'Mayoral Staff XV'\n",
      " 'Sewer Repair Supervisor' 'Traf Signal Electrician Sup I'\n",
      " 'Principal Real Property Ofc' 'Communication Line Sprv1'\n",
      " 'Supt Water Treatment Fac' 'Administrative Engineer'\n",
      " 'Senior Stationary Engineer' 'Structural Engineer' 'Line Inspector'\n",
      " 'Water Operations Analyst' 'Stationary Engineer'\n",
      " 'Building Plans Engineer' 'Sr Power Generation Tech'\n",
      " 'Chf Statnry Eng,WtrTreat Plnt' 'Electrical Line Worker'\n",
      " 'Utility Plumber' 'Manager III, MTA' 'IS Business Analyst-Principal'\n",
      " 'Manager I' 'Chief Stationary Engineer' 'Communications Systems Tech'\n",
      " 'Electrician Supervisor 1' 'Landscape Architect Assoc 1'\n",
      " 'Sewage Treatment Plant Supt' 'Lieutenant (Police Department)'\n",
      " 'Pub Safety Communication Coord' 'Ex Asst to Admin, SFGH'\n",
      " 'Construction Inspector' 'Traffic Signal Electrician'\n",
      " 'Sr Counselor, Juvenile Hall' 'Asst Engr' 'Trans Safety Specialist'\n",
      " 'Utility Specialist' 'Deputy Sheriff (SFERS)' 'Chief Building Inspector'\n",
      " 'Chief Plumbing Inspector' 'Architect' 'Telecommunications Tech Supv'\n",
      " 'Carpenter Supervisor 2' 'Senior Const Inspector'\n",
      " 'Communications Line Wrk Sprv 2' 'Diagnostic Imaging Tech I'\n",
      " 'Sr Statnry Eng, Wtr Treat Plnt' 'Senior Building Inspector'\n",
      " 'Fire Protection Engineer' 'Electrician' 'Manager II, MTA'\n",
      " 'Dist Atty Investigator (SFERS)' 'Special Nurse'\n",
      " 'Traf Signal Electrician Sup II' 'Emergency Med Svcs Agency Spec'\n",
      " 'Stationary Eng, Sewage Plant' 'Maintenance Controller'\n",
      " 'Electrical Inspector' 'Maintenance Machinist Sprv 1'\n",
      " 'Supervising Purchaser' 'Senior Electrical Inpsector'\n",
      " 'Chief Electrical Inspector' 'Station Agent, Muni Railway'\n",
      " 'Public SafetyComm Supv' 'Lab Svcs Mgr' 'Safety Officer'\n",
      " 'Protective Services Supervisor' 'Criminalist III'\n",
      " 'Institutional Police Officer' 'Chf Stationary Eng, Sew Plant'\n",
      " 'IS Business Analyst-Senior' 'Senior Water Service Inspector'\n",
      " 'Undersheriff (SFERS)' 'Bldg & Grounds Maint Sprv'\n",
      " 'Sr. Stationary Eng, Sew Plant' 'Nursing Assistant'\n",
      " 'Senior Claims Investigator' 'Power Generation Technician 2'\n",
      " 'Locksmith Supervisor 1' 'Dep Dir I' 'Sr District Atty Investigator'\n",
      " 'Principal Personnel Analyst' 'Building Inspector' 'Public Relations Mgr'\n",
      " 'Mayoral Staff XIV' 'Street Environ Svcs Oprs Supv' 'Maintenance Planner'\n",
      " 'Ex Asst to Ex Dir, Retirement' 'Track Maintenance Worker'\n",
      " 'Operating Engineer, Universal' 'Switch Repairer'\n",
      " 'Automotive Mechanic Asst Sprv' 'Director, Probation Services'\n",
      " 'Senior Plumbing Inspector' 'Senior Occupational Therapist'\n",
      " 'Project Manager 1' 'Plumber Supervisor 1' 'Automotive Mechanic'\n",
      " 'Plumber Supervisor 2' 'Licensed Vocational Nurse'\n",
      " 'Airport Electrician Supervisor' \"Asst Chf Dist Atty's Invstgtor\"\n",
      " 'Claims Investigator' 'Contract Compliance Officer 2'\n",
      " 'Senior Industrial Hygienist' 'Planner 4-Environmental Review'\n",
      " 'Automotive Body & Fender Wrk' 'Water Conservation Admin'\n",
      " 'IT Operations Support Admin IV' 'Div Director, Adult Probation'\n",
      " 'Plumber' 'Water Service Inspector' 'Prnpl Admin Analyst II'\n",
      " 'IS Prg Analyst-Principal' 'Street Repair Supervisor 2' 'Chief Surveyor'\n",
      " 'Senior Property Manager, Port' 'Steamfitter Supervisor I'\n",
      " 'Crane Mechanic Supervisor' 'Mayoral Staff XI' 'Maintenance Manager'\n",
      " 'Transit Power Cable Splicer' 'Sr Environmental Hlth Insp'\n",
      " 'Elevator and Crane Technician' 'Planner 4' 'Airport Safety Officer'\n",
      " 'Light Rail Vehicle Equip Eng' 'Perf Analyst III Project Mgr'\n",
      " 'Electrician Supervisor II' 'Director, Juvenile Hall'\n",
      " 'Senior Physical Therapist' 'Cable Splicer' 'Senior Power House Operator'\n",
      " 'IT Operations Support Admin V' 'Mayoral Staff XIII'\n",
      " 'Automotive Machinist Sprv 1' 'IS Business Analyst'\n",
      " 'Chf Victim/Witness Invstgtor' 'Carpenter Supervisor 1'\n",
      " 'Transit Car Cleaner' 'Statnry Eng Water Treat Plant'\n",
      " 'Asst Dir of Clinical Svcs 1' 'Maintenance Scheduler'\n",
      " 'Utility Plumber Apprentice' 'Pr Administrative Analyst' 'Supv Chemist'\n",
      " 'Cement Finisher Supervisor 2' 'Airport Economic Planner'\n",
      " 'Architectural Assistant 2' 'ASR Senior Office Specialist'\n",
      " 'Transportation Planner IV' 'Real Estate Devt. Mgr, SFMTA'\n",
      " 'Senior Housing Inspector' 'Eligibility Worker Supervisor'\n",
      " 'Auto Machinist Asst Sprv' 'Automotive Machinist'\n",
      " 'Electr Instrmntn Tech Wtr Poll' 'Supv Biologist'\n",
      " 'Sheet Metal Supervisor 1' 'Protective Services Worker'\n",
      " 'Industrial Hygienist' 'Pr Environmental Hlth Insp'\n",
      " 'Patient Care Assistant' 'Senior Emp Relations Repres'\n",
      " 'Sheet Metal Wrk Supervisor 2' 'Biologist III'\n",
      " 'Asst Materials Coordinator' 'Auditor III' 'General Laborer Supervisor 1'\n",
      " 'Asst Forensic Toxicologist 1' 'Airport Communications Disp'\n",
      " 'Media/Security Syst Supv' 'Emergency Services Coord IV' 'Accountant IV'\n",
      " 'Senior Real Property Officer' 'Sprv Wastewater Cont Inspector'\n",
      " 'Member, Board of Supervisors' 'Senior Administrative Analyst'\n",
      " 'Employment & Training Spec 6' 'Heavy Equipment Ops Sprv'\n",
      " 'Sprv Clincal Psychologist' 'Senior Plan Checker' 'Sewer Service Worker'\n",
      " 'Public Relations Officer' 'Counselor, Log Cabin Ranch'\n",
      " 'Ex Dir, SE Com Fac Comm' 'Environmental Health Inspector'\n",
      " 'Senior Personnel Analyst' 'Architectural Administrator'\n",
      " 'Asphalt Finisher Supervisor 1' 'Chemist III' 'Parking Enforcement Admin'\n",
      " 'Materials Coordinator' 'City Shops Asst Superintendent'\n",
      " 'Principal Parts Storekeeper' 'Survey Associate' 'Criminalist II'\n",
      " 'Claims Adjuster' 'Dentist' 'Safety Analyst' 'Pr Real Property Appraiser'\n",
      " 'EEO Senior Specialist' 'Steamfitter' 'Pr Personal Property Auditor'\n",
      " 'Principal Environ Specialist' 'Housing Inspector'\n",
      " 'Maritime Marketing Repr' 'Engineering Associate 2' 'Transit Manager 1'\n",
      " 'Speech Pathologist' 'Power House Operator'\n",
      " \"District Attry's Investigator\" 'Industrial Engineer'\n",
      " 'Planner 3-Environmental Review' 'Coord of Citizen Involvement'\n",
      " 'Truck Driver' 'Transit Fare Insp. Sup/Invst.' 'Research Psychologist'\n",
      " 'Undersheriff' 'Asst Director, Juvenile Hall'\n",
      " 'SrClaimsInvstgtor,Cty Atty Ofc' 'Sr Community Dev Spec 2'\n",
      " 'IS Engineer-Assistant' 'Hospital Elig Wrk Supervisor'\n",
      " 'Psychiatric Social Worker' 'Senior Street Inspector'\n",
      " \"Worker's Compensation Adjuster\" 'Clinical Psychologist'\n",
      " 'Sheet Metal Worker' 'Asst Superintendent Rec' 'Planner 3'\n",
      " 'Occupational Therapist' 'Pipe Welder' 'Physical Therapist'\n",
      " 'Automotive Service Worker' 'Arborist Technician Supervisor'\n",
      " 'Electric Motor Repairer' 'Coord, Human Rights Comm'\n",
      " 'Soft Floor Coverer Supvr I' 'Senior Microbiologist'\n",
      " 'Airport Property Specialist 1' 'HSA Sr Eligibility Worker'\n",
      " 'Security Analyst' \"Worker's Comp Supervisor 1\" 'Regulatory Specialist'\n",
      " 'Cement Finisher Supervisor 1' 'Govrnmt/Publ Affairs Mgr'\n",
      " 'Watershed Forester' 'Marriage, Family & Child Cnslr'\n",
      " 'Assistant Law Librarian' 'Legislative Assistant'\n",
      " 'Communications Dispatcher 2' 'Transportation Planner III'\n",
      " \"Med Examiner's Investigator I\" 'Sr Sprv Prob Ofc, Juv Prob'\n",
      " 'Pr Payroll & Personnel Clerk' 'Shelter Veterinarian'\n",
      " 'Park Patrol Officer' 'Benefits Supervisor' 'Chief Housing Inspector'\n",
      " 'Sprv Prob Ofc, Juv Court' 'Airport Communications Officer'\n",
      " 'Sprv Adult Probation Ofc' 'Sr Psychiatric Social Worker'\n",
      " 'Street Inspection Supervisor' 'Locksmith' 'Painter Supervisor 1'\n",
      " 'Bd/Comm Secretary 3' 'Parking Control Officer'\n",
      " 'Sup Welfare Fraud Investigator' 'Sr Airport Communications Disp'\n",
      " 'Electric Motor Repair Sprv 1' 'Wastewater Control Inspector'\n",
      " 'Power Generation Technician 1' 'Piledriver Supervisor 1'\n",
      " 'Emergency Services Coord III' 'Carpenter' 'Water & Power Maint Sprv 1'\n",
      " 'Heavy Equip Ops Asst Sprv' 'Media/Security Sys Spec'\n",
      " 'Counselor, Juvenile Hall' 'Senior Purchaser'\n",
      " 'Sr Marriage, Fam & Cld Cnslr' 'Ornamental Iron Wrk Sprv 1'\n",
      " 'IS Administrator 3' 'Senior Health Program Planner'\n",
      " 'Employee Relations Representat' 'Property Manager, Port'\n",
      " 'Airport Emerg Planning Coord' 'Librarian 3'\n",
      " 'IS Administrator-Supervisor' 'Asst Dir, Log Cabin Rnch'\n",
      " 'Claims Investigator, CA' 'General Laborer' 'Social Work Specialist'\n",
      " 'Bricklayer' 'Personnel Analyst' 'Stage Electrician'\n",
      " 'Program Support Analyst' 'Real Property Manager' 'Biologist'\n",
      " 'Parts Storekeeper' 'Park Section Supervisor'\n",
      " 'Pr Fare Collections Receiver' 'Feasibility Analyst, Port'\n",
      " 'IS Trainer-Senior' 'Forester' 'Pharmacy Technician' 'Auditor II'\n",
      " 'Asst Clk, Board of Supervisors' 'Epidemiologist 2'\n",
      " 'Medical Social Work Supervisor' 'Curator 4' 'Assistant Storekeeper'\n",
      " 'Performance Analyst II' 'Electrical Line Helper'\n",
      " 'Commercial Div Asst Sprv' 'Sr Public Defenders Invstgtor'\n",
      " 'Senior Health Educator' 'Area Sprv Parks, Squares & Fac'\n",
      " 'Sr. Environmental Spec' 'Conservatorship/Case Mgt Sprv'\n",
      " 'IS Programmer Analyst' 'Administrative Services Mgr' 'Accountant III'\n",
      " 'AprntcStatnry Eng,WtrTreatPlnt' 'Apprentice Stationary Engineer'\n",
      " 'Senior Real Property Appraiser' 'Investigator, Tax Collector'\n",
      " 'IS Programmer Analyst-Senior' 'Sr Investigator, OCC' 'Glazier'\n",
      " 'Employment & Training Spec 5' 'Chf Payroll & Personnel Clerk'\n",
      " 'Painter Supervisor 2' 'Asst Chf Victim/Wit Invstgtor'\n",
      " 'Sr Personal Property Auditor' 'Secretary, Comm on the Environ'\n",
      " 'Asphalt Plant Supervisor 1' 'Fusion Welder' 'Pile Worker'\n",
      " 'Pr Investigator, Tax Collector' 'Airports Communications Sprv'\n",
      " 'Payroll Supervisor' 'Cement Mason' 'Piledriver Engine Operator'\n",
      " 'Deputy Sheriff 1' 'Program Specialist' 'Transit Fare Inspector'\n",
      " 'Investigator,Taxi & AccessSvcs' 'Pattern Maker'\n",
      " 'Events & Facilities Specialist' 'Food Service Mgr Administrator'\n",
      " 'Contract Compliance Officer 1' 'Administrative Hearing Sup'\n",
      " 'Chief Fire Alarm Dispatcher' 'Welfare Fraud Investigator'\n",
      " 'Sr Cent Proc & Dist Tech' 'Asst Electronic Main Tech'\n",
      " 'Main Machinist Asst Sprv' 'Sr Employee Asst Counselor' 'Museum Sec Supv'\n",
      " 'Aprntc Statnry Eng, Sew Plant' 'Municipal Stadium Groundskpr'\n",
      " 'Program Specialist Supervisor' 'Sprv, Traffic & Street Signs'\n",
      " 'Senior Medical Social Worker' 'Mental Hlth Treatment Spec'\n",
      " 'Assistant Const Inspector' 'Chemist' 'Invstgtor Ofc Citizen Cmplnts'\n",
      " 'Chief Dietitian' 'Health Program Coordinator 2' 'X-Ray Laboratory Aide'\n",
      " 'Junior Engineer' 'HH Mechanical Shop Sprv'\n",
      " 'Auto Body&Fender Wrk Asst Sprv' 'Nutritionist'\n",
      " 'IT Operations Support Admn III' 'Ex Asst to the Controller'\n",
      " 'Secretary, Library Commission' 'Librarian 2' 'Dental Hygienist'\n",
      " 'Medical Social Worker' 'Criminal Justice Specialist 2' 'Principal Clerk'\n",
      " 'Sr. Community Devl Spc 1' 'Public Health Team Leader'\n",
      " 'Patient Accounts Manager' 'Arborist Technician Supv II'\n",
      " 'Sctry, Bldg Inspection Comm' 'Market Research Spec, Port'\n",
      " 'Instructional Designer' 'Training Officer' 'Senior Management Assistant'\n",
      " 'IT Operations Support Admin II' 'Victim/Witness Investigator 3'\n",
      " 'Rep, Comm Status of Women' 'Transit Car Cleaner Asst Sprv'\n",
      " 'Health Educator' 'Sr Payroll & Personnel Clerk' 'Porter Supervisor 1'\n",
      " 'Transportation Planner II' 'Communications Dispatcher 1'\n",
      " 'Media Training Specialist' 'Patient Accounts Supervisor' 'Chef'\n",
      " 'Librarian 2 - Asian Arts' 'Administrative Analyst' 'IS Administrator 2'\n",
      " 'Media Production Supv' 'Medical Records Tech Sprv' 'Microbiologist'\n",
      " \"Public Defender's Investigator\" 'Rehabilitation Svcs Coord'\n",
      " 'Medical Evaluations Assistant' 'Water Quality Technician'\n",
      " 'Comm Pol Svcs Aide Supervisor' 'Child Support Officer III' 'Audiologist'\n",
      " 'Engineering Associate 1' 'Roofer Supervisor 1' 'Painter'\n",
      " 'Employee Assistance Counselor' 'Secretary, Health Commission'\n",
      " 'Emp & Training Spec 4' 'Fire Alarm Dispatcher'\n",
      " 'Counselor, Juvenile Hall SFERS' 'Central Processing & Dist Tech'\n",
      " 'Arborist Technician' 'General Utility Mechanic'\n",
      " 'Custodial Assistant Supervisor' 'Senior Benefits Analyst'\n",
      " 'Utility Analyst' 'Mayoral Staff IX' 'Environmental Spec'\n",
      " 'Fingerprint Technician 2' 'Surgical Procedures Technician'\n",
      " 'Watershed Keeper Supervisor' 'Street Inspector' 'Health Program Planner'\n",
      " 'Social Work Supervisor' 'EEO Programs Specialist'\n",
      " 'Senior Estate Investigator' 'Unit Clerk' 'Recreation Supervisor'\n",
      " 'Senior Personnel Clerk' 'Eligibility Worker' 'Auto Svc Wrk Asst Sprv'\n",
      " 'Sr Fare Collections Receiver' 'Dir of Act, Therapy & Vol Svcs'\n",
      " 'Health Worker 4' 'Hospital Eligiblity Worker'\n",
      " 'Physical Therapist Assistant' 'Asst General Services Manager'\n",
      " 'Water Quality Tech III' 'Integrated Pest Mgmt Specialst'\n",
      " 'Executive Secretary 3' 'Porter Assistant Supervisor'\n",
      " 'Rep, Human Rights Comm' 'Health Care Analyst' 'Ornamental Iron Worker'\n",
      " 'Security Guard' 'Planner 2' 'Assistant Industrial Hygienist'\n",
      " 'Psychiatric Technician' 'Survey Assistant II'\n",
      " 'Water Meter Shop Supervisor 1' 'Illustrator and Art Designer'\n",
      " 'Chief Clerk' 'Real Property Appraiser' 'Janitorial Services Supervisor'\n",
      " 'Med Staff Svcs Dept Anl' 'Customer Service Agent Supv'\n",
      " 'Sewer Maintenance Worker' 'Deputy Probation Officer SFERS' 'Librarian 1'\n",
      " 'Depty Sealer of Weights & Meas' 'Watershed Keeper' 'Estate Investigator'\n",
      " 'Assoc Musm Cnsrvt, AAM' 'Junior Management Assistant'\n",
      " 'Fingerprint Technician 3' 'IS Trainer-Journey' 'Dietitian'\n",
      " 'Executive Secretary 2' 'Parking Meter Repairer Sprv 1'\n",
      " 'Medical Records Technician' 'Personal Property Auditor'\n",
      " 'Engineering Assistant' 'Roofer' 'Employment & Training Spec 3'\n",
      " 'Assistant Counselor' 'Purchaser' 'Museum Guard' 'Senior Clerk Typist'\n",
      " 'Legal Assistant' 'Graphics Supervisor' 'IS Business Analyst-Assistant'\n",
      " 'Prpl Permit and Citation Clerk' 'Janitorial Svcs Asst Sprv'\n",
      " 'Legal Secretary 2' 'Junior Administrative Analyst' 'Hodcarrier'\n",
      " 'Gardener' 'Victim/Witness Investigator 2' 'Patient Accounts Asst Sprv'\n",
      " 'Wharfinger 2' 'Senior Parts Storekeeper' 'Snr Permit and Citation Clerk'\n",
      " 'HSA Emp & Training Spec II' 'Community Police Services Aide'\n",
      " 'Architectural Assistant 1' 'Customer Service Agent' 'Cook'\n",
      " 'Forensic Laboratory Technician' 'Management Assistant' 'Clerk'\n",
      " 'Assistant Health Educator' 'Public Information Officer'\n",
      " 'HSA Social Worker' 'Curator 3' 'Community Development Spec'\n",
      " 'Airport Noise Abatement Spec' 'Window Cleaner Supervisor'\n",
      " 'Library Technical Assistant 2' 'Nursery Specialist'\n",
      " 'Citizens Complaint Officer' 'Custodian' 'Payroll Clerk'\n",
      " 'Child Support Officer II' 'Acupuncturist' 'Legislative Clerk'\n",
      " 'Human Services Technician' 'Health Worker 1' 'Rehabilitation Counselor'\n",
      " 'Patient Accounts Clerk' 'Senior Transit Traffic Checker' 'Accountant II'\n",
      " 'Assistant Retirement Analyst' 'Medical Records Clerk'\n",
      " 'Respiratory Care Practitioner' 'Secretary 2' 'Legal Secretary 1'\n",
      " 'Criminalist I' 'Animal Control Supervisor' 'Window Cleaner'\n",
      " 'Executive Secretary 1' 'Health Worker 2' 'Mayoral Staff VII'\n",
      " 'Health Program Coordinator 1' 'Epidemiologist 1'\n",
      " 'Volunteer/Outreach Coord' 'Collection Supervisor' 'Survey Assistant I'\n",
      " 'Principal Account Clerk' 'Senior Pharmacy Helper'\n",
      " 'Senior Psychiatric Orderly' 'Sprv Adult Prob Ofc (SFERS)'\n",
      " 'Soft Floor Coverer' 'Senior Collections Officer' 'Water Meter Repairer'\n",
      " 'Principal Museum Preparator' 'Senior Social Worker'\n",
      " 'Rent Board Supervisor' 'Principal Water Services Clerk'\n",
      " 'Senior Laundry Worker' 'Curator 2' 'Health Care Billing Clerk 2'\n",
      " 'Counselor 2' 'Porter' 'Tile Setter' 'Pharmacy Helper'\n",
      " 'DA Investigative Assist' 'Stores & Equip Asst Sprv'\n",
      " 'Forensic Autopsy Technician' 'Therapy Aide'\n",
      " 'Materials Testing Technician' 'Industrial Injury Investigator'\n",
      " 'Nurses Staffing Assistant' 'Senior Clerk' 'Clerk Typist'\n",
      " 'Aquatics Facility Supervisor' 'Parking Meter Repairer'\n",
      " 'Mail & Reproduction Svc Sprv' 'Asphalt Finisher' 'Custodial Supervisor'\n",
      " 'Urban Forestry Inspector' 'Medical Transcriber Typist'\n",
      " 'Senior Book Repairer' 'Fare Collections Receiver'\n",
      " 'Traffic Survey Technician' 'Research Assistant' 'Benefits Analyst'\n",
      " 'Library Technical Assistant 1' 'Asphalt Worker'\n",
      " 'Food Service Supervisor' 'Permit and Citation Clerk'\n",
      " 'Assistant Purchaser' 'Senior Morgue Attendant' 'Media Programming Spec'\n",
      " 'Senior Water Services Clerk' 'Admin Hearing Examiner' 'Home Health Aide'\n",
      " 'Sen Hospital Eligibility Wrkr' 'Disease Control Investigator'\n",
      " 'Senior Legal Process Clerk' 'Planner 1' 'Sign Worker' 'Metalsmith'\n",
      " 'Environmental Hlth Tech 1' 'Media Production Specialist'\n",
      " 'Senior Food Service Supervisor' 'Document Examiner Technician'\n",
      " 'Emergency Services Coord II' 'Auditor I' 'Senior Unit Clerk'\n",
      " 'Bldg & Grounds Patrol Officer' 'Shelter Officer Supervisor'\n",
      " 'Electroencephalograph Tech 1' 'Dental Aide' 'Accountant I'\n",
      " 'Arts Program Assistant' 'Environmental Assistant' 'Personnel Technician'\n",
      " 'Victim/Witness Investigator 1' 'Transit Traffic Checker'\n",
      " 'Supv Bldg Grounds Patrol Ofcr' 'Health Worker 3'\n",
      " 'IT Operations Support Admin I' 'Senior Account Clerk' 'Storekeeper'\n",
      " 'Marina Assistant' 'Cashier 2' 'Court Alternative Specialist 1'\n",
      " 'Animal Keeper' 'Orthopedic Technician 2' 'Special Assistant 11'\n",
      " 'Employment & Training Spec 1' 'Offset Machine Operator'\n",
      " 'Legislative Asst City Atty Ofc' 'Public Service Trainee' 'Social Worker'\n",
      " 'Animal Control Officer' 'Med Staff Svcs Dept Spc'\n",
      " 'Emergency Services Coord I' 'Patient Svcs Finance Tech' 'Secretary 1'\n",
      " 'IS Operator-Senior' 'Counselor,Log Cabin Rnch SFERS'\n",
      " 'Food Service Worker' 'Wharfinger 1' 'IS Trainer-Assistant'\n",
      " 'Transit Information Clerk' 'Agricultural Inspector' 'Senior Storekeeper'\n",
      " 'Inspector, Weights & Measures' 'Museum Registrar'\n",
      " 'Community Development Asst' 'Graphic Artist' 'Fingerprint Technician 1'\n",
      " 'Senior Telephone Operator' 'Hospital Eligibility Worker'\n",
      " 'Lighting Fixture Maint Worker' 'Chief Telephone Operator'\n",
      " 'Collections Officer' 'Benefits Technician' 'Mayoral Staff IV'\n",
      " 'Sr Transit Information Clerk' 'Materials Testing Aide'\n",
      " 'Health Care Billing Clerk 1' 'Laboratory Technician II'\n",
      " 'Sr. Microphoto/Imaging Tech.' 'Elections Worker' 'Inspector 2'\n",
      " 'Media Production Tech' 'Recreation Coordinator' 'Farmer'\n",
      " 'Shelter Office Asst Supv' 'Assessor-Recorder Office Spec'\n",
      " 'Library Assistant' 'Meter Reader' 'Cashier 1'\n",
      " 'IS Program Analyst-Assistant' 'Senior Food Service Worker'\n",
      " 'Photographer' 'Elections Clerk' 'Senior Museum Preparator' 'Curator 1'\n",
      " 'Planner Technician' 'Senior Transcriber Typist' 'Claims Process Clerk'\n",
      " 'Assistant Cook' 'Stable Attendant' 'Recreation Specialist'\n",
      " 'Orthopedic Technician 1' 'Animal Care Asst Supv' 'Dietetic Technician'\n",
      " 'Shelter Service Rep' 'Transcriber Typist' 'Animal Care Attendant'\n",
      " 'Inventory Clerk' \"Sheriff's Cadet\" 'Sr Materials & Supplies Sprv'\n",
      " 'Crafts Instructor' 'Housekeeper/Food Service Clnr' 'Telephone Operator'\n",
      " 'Legal Process Clerk' 'Personnel Clerk' 'Personnel Trainee'\n",
      " 'Environmental Service Worker' 'Supervising Parts Storekeeper'\n",
      " 'Account Clerk' 'Museum Preparator' 'Institution Utility Worker'\n",
      " 'Aquatics Facility Asst Supv' 'Public Relations Assistant'\n",
      " 'Book Repairer' 'Laboratory Technician I' 'ASR-Office Assistant'\n",
      " 'Assessment Clerk' 'StdntDsgn Train2/Arch/Eng/Plng'\n",
      " 'Swimming Instr/Pool Lifeguard' 'Associate Museum Registrar'\n",
      " 'Performance Analyst I' 'Apprentice Gardener' 'Special Assistant 3'\n",
      " 'Sctry, Juv Probation Comm' 'Materials/Supplies Supervisor'\n",
      " 'Shade and Drapery Worker' 'Sr Medical Transcriber Typist'\n",
      " 'ACPO,JuvP, Juv Prob (SFERS)' 'Field Svcs Asst Supv'\n",
      " 'StdntDsgnTrain1, Arch/Eng/Plng' 'Admission Attendant' 'Junior Clerk'\n",
      " 'Mgr Museum Security Services' 'Library Page' 'Beautician'\n",
      " 'Senior Eligibility Worker' 'Child Care Specialist'\n",
      " 'Microphoto/Imaging Technician' 'Public Service Aide-Admin' 'Court Clerk'\n",
      " 'Traffic Signal Operator' 'PrDAInvest,SpecUnit (SFERS)'\n",
      " 'Chief Preparator' 'Public Svc Aide-Public Works' 'Morgue Attendant'\n",
      " 'Apprentice Cement Mason I' 'Accountant Intern' 'Emp & Training Spec 2'\n",
      " 'PS Aide to Prof' 'Junior Clerk Typist' 'Publ Svc Aide-Asst to Prof'\n",
      " 'Recreation Leader' 'Statistician' 'StdntDsgnTrain3, Arch/Eng/Plng'\n",
      " 'Chief Deputy Adlt Probation Of' 'PS Aide Health Services'\n",
      " \"Sheriff's Property Keeper\" 'Animal Health Technician' 'Mayoral Staff V'\n",
      " 'Marina Associate Manager' 'Mayoral Staff II' 'Youth Comm Advisor'\n",
      " 'Audiometrist' 'Principal Recreation Sprv' 'Special Assistant 10'\n",
      " 'Chemist I/II' 'Emergency Services Assistant'\n",
      " 'Signal and Systems Engineer' 'Customer Service Agent Trainee'\n",
      " 'Chief Nursery Specialist' 'Sctry, Human Svcs. Commission'\n",
      " 'Sr Cnselor, Juv Hall (SFERS)' 'Swimming Instructor' 'Braillist'\n",
      " 'City Planning Intern' 'Forensic Toxicologist Supervis'\n",
      " 'Power Plant Supervisor 1' 'Dir, Log Cabin Ranch (SFERS)'\n",
      " 'Watershed Worker (Seasonal)' 'Pool Lifeguard' 'Testing Technician'\n",
      " 'IS Operator-Journey' 'Transit Planner 4' 'School Crossing Guard'\n",
      " 'Assistant Recreation Director' 'Transit Planner 2' 'Baker'\n",
      " 'Commissioner No Benefits' 'Recreation Director'\n",
      " 'Cfdntal Sctry to City Atty' 'Transit Planner III'\n",
      " 'Brd Comm Mbr, M=$200/Mtg' 'Water QualityTech I/II' 'Camp Assistant'\n",
      " 'Victim & Witness Technician' 'Special Assistant 15' 'Special Examiner'\n",
      " 'BdComm Mbr, Grp5,M$100/Mo' 'BdComm Mbr, Grp3,M=$50/Mtg'\n",
      " 'Mayoral Staff X' 'Barber' 'Marina Assistant Manager' 'Conversion'\n",
      " 'Cashier 3' 'BdComm Mbr, Grp2,M=$25/Mtg']\n"
     ]
    }
   ],
   "source": [
    "status_valuess = salaries_df['JobTitle'].unique()\n",
    "print(status_valuess)"
   ]
  },
  {
   "cell_type": "code",
   "execution_count": 14,
   "metadata": {},
   "outputs": [],
   "source": [
    "# Your code here"
   ]
  },
  {
   "cell_type": "code",
   "execution_count": null,
   "metadata": {
    "colab": {
     "base_uri": "https://localhost:8080/",
     "height": 374
    },
    "id": "8mJv_l6HzSyE",
    "outputId": "5dd1494c-537e-4a0b-c0c0-761ee64a00dd"
   },
   "outputs": [],
   "source": []
  },
  {
   "cell_type": "markdown",
   "metadata": {
    "id": "lLEKu7vxzSyE"
   },
   "source": [
    "Do any type conversions and reset the index."
   ]
  },
  {
   "cell_type": "code",
   "execution_count": 15,
   "metadata": {},
   "outputs": [
    {
     "name": "stdout",
     "output_type": "stream",
     "text": [
      "Id                    int64\n",
      "EmployeeName         object\n",
      "JobTitle             object\n",
      "BasePay             float64\n",
      "OvertimePay         float64\n",
      "OtherPay            float64\n",
      "Benefits            float64\n",
      "TotalPay            float64\n",
      "TotalPayBenefits    float64\n",
      "Year                  int64\n",
      "Notes               float64\n",
      "Agency               object\n",
      "Status               object\n",
      "dtype: object\n"
     ]
    }
   ],
   "source": [
    "float_columns = ['BasePay', 'OvertimePay', 'OtherPay', 'Benefits']\n",
    "\n",
    "salaries_df[float_columns] = salaries_df[float_columns].astype(float)\n",
    "print(salaries_df.dtypes)\n"
   ]
  },
  {
   "cell_type": "code",
   "execution_count": 16,
   "metadata": {
    "id": "ufFv58v_zSyE"
   },
   "outputs": [
    {
     "name": "stdout",
     "output_type": "stream",
     "text": [
      "           Id          EmployeeName                     JobTitle    BasePay  \\\n",
      "0      110532           David Shinn               Deputy Chief 3  129150.01   \n",
      "1      110533            Amy P Hart            Asst Med Examiner  318835.49   \n",
      "2      110534  William J Coaker Jr.     Chief Investment Officer  257340.00   \n",
      "3      110535        Gregory P Suhr              Chief of Police  307450.04   \n",
      "4      110536  Joanne M Hayes-White       Chief, Fire Department  302068.00   \n",
      "...       ...                   ...                          ...        ...   \n",
      "38114  148646      Carolyn A Wilson    Human Services Technician       0.00   \n",
      "38115  148648        Joann Anderson  Communications Dispatcher 2       0.00   \n",
      "38116  148649           Leon Walker                    Custodian       0.00   \n",
      "38117  148650         Roy I Tillery                    Custodian       0.00   \n",
      "38118  148654             Joe Lopez   Counselor, Log Cabin Ranch       0.00   \n",
      "\n",
      "       OvertimePay   OtherPay  Benefits   TotalPay  TotalPayBenefits  Year  \\\n",
      "0             0.00  342802.63  38780.04  471952.64         510732.68  2014   \n",
      "1         10712.95   60563.54  89540.23  390111.98         479652.21  2014   \n",
      "2             0.00   82313.70  96570.66  339653.70         436224.36  2014   \n",
      "3             0.00   19266.72  91302.46  326716.76         418019.22  2014   \n",
      "4             0.00   24165.44  91201.66  326233.44         417435.10  2014   \n",
      "...            ...        ...       ...        ...               ...   ...   \n",
      "38114         0.00       0.00      0.00       0.00              0.00  2014   \n",
      "38115         0.00       0.00      0.00       0.00              0.00  2014   \n",
      "38116         0.00       0.00      0.00       0.00              0.00  2014   \n",
      "38117         0.00       0.00      0.00       0.00              0.00  2014   \n",
      "38118         0.00    -618.13      0.00    -618.13           -618.13  2014   \n",
      "\n",
      "       Notes         Agency Status  \n",
      "0        NaN  San Francisco     PT  \n",
      "1        NaN  San Francisco     FT  \n",
      "2        NaN  San Francisco     PT  \n",
      "3        NaN  San Francisco     FT  \n",
      "4        NaN  San Francisco     FT  \n",
      "...      ...            ...    ...  \n",
      "38114    NaN  San Francisco     PT  \n",
      "38115    NaN  San Francisco     PT  \n",
      "38116    NaN  San Francisco     PT  \n",
      "38117    NaN  San Francisco     PT  \n",
      "38118    NaN  San Francisco     PT  \n",
      "\n",
      "[38119 rows x 13 columns]\n"
     ]
    }
   ],
   "source": [
    "salaries_df.reset_index(drop=True, inplace=True)\n",
    "print(salaries_df)\n"
   ]
  },
  {
   "cell_type": "code",
   "execution_count": 17,
   "metadata": {},
   "outputs": [],
   "source": [
    "# Your code here"
   ]
  },
  {
   "cell_type": "code",
   "execution_count": null,
   "metadata": {
    "colab": {
     "base_uri": "https://localhost:8080/",
     "height": 374
    },
    "id": "mf7huPFRzSyF",
    "outputId": "3d84ce08-71e7-4121-91ea-bc6e777d0b9f"
   },
   "outputs": [],
   "source": []
  },
  {
   "cell_type": "markdown",
   "metadata": {
    "id": "2DNK_QLozSyF"
   },
   "source": [
    "Check out if \"TotalPayBenefits\" = \"BasePay\" + \"OvertimePay\" + \"OtherPay\" + \"Benefits\""
   ]
  },
  {
   "cell_type": "code",
   "execution_count": 18,
   "metadata": {},
   "outputs": [
    {
     "name": "stdout",
     "output_type": "stream",
     "text": [
      "Rows where the sum does not equal 'TotalPayBenefits':\n",
      "        Id          EmployeeName                      JobTitle    BasePay  \\\n",
      "0   110532           David Shinn                Deputy Chief 3  129150.01   \n",
      "2   110534  William J Coaker Jr.      Chief Investment Officer  257340.00   \n",
      "4   110536  Joanne M Hayes-White        Chief, Fire Department  302068.00   \n",
      "6   110538         John L Martin                   Dept Head V  311298.55   \n",
      "7   110539     Harlan L Kelly-Jr   Executive Contract Employee  310161.02   \n",
      "9   110541      David L Franklin  Asst Chf of Dept (Fire Dept)  201566.88   \n",
      "10  110542      Edward D Reiskin    Gen Mgr, Public Trnsp Dept  294000.18   \n",
      "\n",
      "    OvertimePay   OtherPay  Benefits   TotalPay  TotalPayBenefits  Year  \\\n",
      "0          0.00  342802.63  38780.04  471952.64         510732.68  2014   \n",
      "2          0.00   82313.70  96570.66  339653.70         436224.36  2014   \n",
      "4          0.00   24165.44  91201.66  326233.44         417435.10  2014   \n",
      "6          0.00       0.00  89772.32  311298.55         401070.87  2014   \n",
      "7          0.00       0.00  88823.51  310161.02         398984.53  2014   \n",
      "9      97907.38   29916.28  64599.59  329390.54         393990.13  2014   \n",
      "10         0.00       0.00  85918.54  294000.18         379918.72  2014   \n",
      "\n",
      "    Notes         Agency Status  \n",
      "0     NaN  San Francisco     PT  \n",
      "2     NaN  San Francisco     PT  \n",
      "4     NaN  San Francisco     FT  \n",
      "6     NaN  San Francisco     FT  \n",
      "7     NaN  San Francisco     FT  \n",
      "9     NaN  San Francisco     FT  \n",
      "10    NaN  San Francisco     FT  \n"
     ]
    }
   ],
   "source": [
    "check_sum = (salaries_df['BasePay'] + salaries_df['OvertimePay'] + salaries_df['OtherPay'] + salaries_df['Benefits']) == salaries_df['TotalPayBenefits']\n",
    "\n",
    "print(\"Rows where the sum does not equal 'TotalPayBenefits':\")\n",
    "print(salaries_df[check_sum].head(7))\n"
   ]
  },
  {
   "cell_type": "markdown",
   "metadata": {
    "id": "65AtoiMDzSyF"
   },
   "source": [
    "What is the percetage of employees for which the previous assumption is not True?"
   ]
  },
  {
   "cell_type": "code",
   "execution_count": 19,
   "metadata": {},
   "outputs": [
    {
     "name": "stdout",
     "output_type": "stream",
     "text": [
      "26.29%\n"
     ]
    }
   ],
   "source": [
    "percentage_not_equal = (salaries_df['BasePay'] + salaries_df['OvertimePay'] + salaries_df['OtherPay'] + salaries_df['Benefits'] != salaries_df['TotalPayBenefits']).mean() * 100\n",
    "\n",
    "print(f\"{percentage_not_equal:.2f}%\")\n"
   ]
  },
  {
   "cell_type": "code",
   "execution_count": null,
   "metadata": {
    "colab": {
     "base_uri": "https://localhost:8080/"
    },
    "id": "WQSlyYKfzSyG",
    "outputId": "db98ca20-db17-4900-c441-896b1d3ae1de"
   },
   "outputs": [],
   "source": []
  },
  {
   "cell_type": "markdown",
   "metadata": {
    "id": "hxAKJ0grzSyG"
   },
   "source": [
    "There are different departments in the city. List all departments and the count of employees in each department."
   ]
  },
  {
   "cell_type": "code",
   "execution_count": 20,
   "metadata": {},
   "outputs": [
    {
     "name": "stdout",
     "output_type": "stream",
     "text": [
      "DepartmentFromJobTitle\n",
      "Civil/Criminal       394\n",
      "SFERS                 40\n",
      "Seasonal              27\n",
      "Police Department     11\n",
      "Fire Dept              8\n",
      "Name: count, dtype: int64\n"
     ]
    }
   ],
   "source": [
    "salaries_df['DepartmentFromJobTitle'] = salaries_df['JobTitle'].str.extract(r'\\((.*?)\\)')\n",
    "\n",
    "salaries_df['DepartmentFromJobTitle'] = salaries_df['DepartmentFromJobTitle'].replace(['Civil', 'Criminal', 'Civil & Criminal', 'Cvl&Crmnl'], 'Civil/Criminal')\n",
    "\n",
    "department_counts_from_job_title = salaries_df['DepartmentFromJobTitle'].value_counts()\n",
    "\n",
    "print(department_counts_from_job_title)\n"
   ]
  },
  {
   "cell_type": "code",
   "execution_count": 21,
   "metadata": {
    "colab": {
     "base_uri": "https://localhost:8080/",
     "height": 455
    },
    "id": "rIP5w8uqzSyG",
    "outputId": "792a6c68-1553-489f-b021-6a1f1eb2fc75",
    "scrolled": true
   },
   "outputs": [
    {
     "name": "stdout",
     "output_type": "stream",
     "text": [
      "Index(['Id', 'EmployeeName', 'JobTitle', 'BasePay', 'OvertimePay', 'OtherPay',\n",
      "       'Benefits', 'TotalPay', 'TotalPayBenefits', 'Year', 'Notes', 'Agency',\n",
      "       'Status', 'DepartmentFromJobTitle'],\n",
      "      dtype='object')\n",
      "['Deputy Chief 3' 'Asst Med Examiner' 'Chief Investment Officer'\n",
      " 'Chief of Police' 'Chief, Fire Department' 'Dept Head V'\n",
      " 'Executive Contract Employee' 'Battalion Chief, Fire Suppress'\n",
      " 'Asst Chf of Dept (Fire Dept)' 'Gen Mgr, Public Trnsp Dept'\n",
      " 'Senior Physician Specialist' 'Commander 3' 'Dep Chf of Dept (Fire Dept)'\n",
      " 'Administrator, DPH' 'Mayor' 'Adm, SFGH Medical Center' 'Controller'\n",
      " 'Anesthetist' 'Dep Dir V' 'Port Director' 'Manager, Dept Public Health'\n",
      " 'Deputy Sheriff' 'Assistant Deputy Chief 2' 'Deputy Dir II, MTA'\n",
      " 'Firefighter' 'Emergency Medical Svcs Chief' 'Manager VIII'\n",
      " 'District Attorney' 'Inspector 3' 'Captain 3' 'Captain, Fire Suppression'\n",
      " 'Nursing Supervisor' 'Lieut,Fire Prev' 'Dept Head IV' 'City Attorney'\n",
      " 'EMT/Paramedic/Firefighter' 'Police Officer 3'\n",
      " 'Lieutenant, Fire Suppression' 'Sheriff (SFERS)' 'Dep Dir IV'\n",
      " 'Nurse Manager' 'Nursing Supervisor Psychiatric'\n",
      " 'Supervising Physician Spec' 'Captain, Emergency Med Svcs' 'Sergeant 3'\n",
      " 'Public Defender' 'Cfdntal Chf Atty 2,(Cvl&Crmnl)' 'Police Officer 2'\n",
      " 'Dept Head III' 'Capt,Fire Prev or Fire Invsgtn' 'Lieutenant 2'\n",
      " 'Chief Atty1 (Civil & Criminal)' 'Chief Forensic Toxicologist'\n",
      " 'Insp, Fire Dept' 'Dir Emp Relations Div' 'Special Assistant 21'\n",
      " 'Human Resources Director' 'Chief Adult Probation Officer'\n",
      " 'Assistant Chief Attorney 2' 'Manager VII' 'Nurse Practitioner'\n",
      " 'Mech Shop & Equip Supt' 'Lieutenant 3' 'Marine Engineer of Fire Boats'\n",
      " 'Pilot of Fire Boats' 'Special Assistant 22' 'Manager VIII, MTA'\n",
      " \"Sheriff's Lieutenant\" 'Assistant Chief Attorney 1'\n",
      " 'Diagnostic Imaging Tech III' 'Incident Support Specialist'\n",
      " 'Senior Deputy Sheriff' 'Electr Maint Tech Asst Sprv' 'Assistant Sheriff'\n",
      " 'Manager VI, MTA' 'Deputy Dir I, MTA' 'Manager VI'\n",
      " 'Engineer/Architect Principal' 'Project Manager 4' 'Dept Head II'\n",
      " 'Physician Specialist' 'Physician Assistant' 'Pharmacist'\n",
      " 'Head Atty, Civil & Criminal' 'Attorney (Civil/Criminal)'\n",
      " 'Electrical Transit Shop Sprv 1' 'Mayoral Staff XVII' 'Engineer'\n",
      " \"Sheriff's Sergeant\" 'Dept Head I' 'Architectural Associate 1'\n",
      " 'Dep Dir III' 'Clinical Nurse Specialist' 'Manager V'\n",
      " 'Chf Prob Ofc, Juv Court' 'Deputy Probation Officer'\n",
      " 'Eng/Arch/Landscape Arch Sr' 'Landscape Architect Assoc 2'\n",
      " 'IS Engineer-Principal' 'Sergeant 2' 'Head Park Patrol Officer'\n",
      " 'Heating/Ventilating Inspector' 'Manager VII, MTA'\n",
      " 'Electrical Transit System Mech' 'Track Maint Wrk Sprv 1' 'Assessor'\n",
      " 'IS Project Director' 'Chief Deputy Sheriff' 'Police Officer'\n",
      " 'Special Assistant 19' 'Registered Nurse' 'Fire Safety Inspector 2'\n",
      " 'Transit Supervisor' 'Board Scty, MTA' 'Senior Parking Control Officer'\n",
      " 'Treasurer' 'Assistant Inspector 3' 'Assoc Engineer'\n",
      " 'Sergeant, (Police Department)' 'Transit Power Line Sprv1'\n",
      " 'Project Manager 3' 'Diagnostic Imaging Tech II'\n",
      " 'Wire Rope Cable Maint Sprv' \"Sheriff's Captain\" 'Invstgtor,Fire Dept'\n",
      " 'Electrical Trnst Mech Sprv 1' 'Trnst Power Line Wrk Sprv 2'\n",
      " 'Radiologic Tech Sprv' 'Wire Rope Cable Maint Mechanic'\n",
      " 'Utility Plumber Supervisor 1' 'Clinical Pharmacist'\n",
      " 'Water Const&Main Supt' 'Electronic Maintenance Tech' 'Manager IV'\n",
      " 'Bldgs & Grounds Maint Supt' 'Welder' 'Supervising Pharmacist'\n",
      " 'IS Manager' 'Transit Operations Specialist'\n",
      " 'Chief Dep Adlt Prob Of (SFERS)' 'Inspector, (Police Department)'\n",
      " 'Electrl Trnst Mech, Asst Sprv' 'Airport Electrician' 'Dep Dir II'\n",
      " 'Chf District Atty Investigator' 'Manager III'\n",
      " 'Power Generation Supervisor' 'Trans and Dist Line Worker'\n",
      " 'Law Librarian' 'Transmission Line Supervisor 1'\n",
      " 'Automotive Mechanic Sprv 1' 'Transit Power Line Worker'\n",
      " 'IS Engineer-Senior' 'Manager,Employee Relations Div'\n",
      " 'Institutional Police Sergeant' 'Attorney, Tax Collector'\n",
      " 'Plumbing Inspector' 'Train Controller' 'Diagnostic Imaging Tech IV'\n",
      " 'Senior Comm Systems Technican' 'Utility Plumber Supervisor 2'\n",
      " 'Public SafetyComm Disp' 'Public Health Nurse'\n",
      " \"Med Examiner's InvestigatorIII\" 'Maintenance Machinist' 'Nurse Midwife'\n",
      " 'Manager V, MTA' 'Auto Body & Fender Wrk Sprv 1'\n",
      " 'Sprv Electronic Main Tech' 'Planner 5' 'Architectural Associate 2'\n",
      " 'Car and Auto Painter' 'Chief Water Service Inspector'\n",
      " 'Sr Light Rail Veh Equip Eng' 'Project Manager 2' 'Landscape Architect'\n",
      " 'Airport Operations Supervisor' 'Automotive Trnst Shop Sprv 1'\n",
      " 'Mayoral Staff XVI' 'Asst.Dep.Dir., Port' 'Manager II' 'Manager IV, MTA'\n",
      " \"Med Examiner's Investigator II\" 'Disability Access Coordinator'\n",
      " 'Fire Rescue Paramedic' 'IS Engineer-Journey'\n",
      " 'Health Program Coordinator 3' 'Transit Operator'\n",
      " 'Senior Museum Registrar' 'Transit Manager 2' 'Mayoral Staff XV'\n",
      " 'Sewer Repair Supervisor' 'Traf Signal Electrician Sup I'\n",
      " 'Principal Real Property Ofc' 'Communication Line Sprv1'\n",
      " 'Supt Water Treatment Fac' 'Administrative Engineer'\n",
      " 'Senior Stationary Engineer' 'Structural Engineer' 'Line Inspector'\n",
      " 'Water Operations Analyst' 'Stationary Engineer'\n",
      " 'Building Plans Engineer' 'Sr Power Generation Tech'\n",
      " 'Chf Statnry Eng,WtrTreat Plnt' 'Electrical Line Worker'\n",
      " 'Utility Plumber' 'Manager III, MTA' 'IS Business Analyst-Principal'\n",
      " 'Manager I' 'Chief Stationary Engineer' 'Communications Systems Tech'\n",
      " 'Electrician Supervisor 1' 'Landscape Architect Assoc 1'\n",
      " 'Sewage Treatment Plant Supt' 'Lieutenant (Police Department)'\n",
      " 'Pub Safety Communication Coord' 'Ex Asst to Admin, SFGH'\n",
      " 'Construction Inspector' 'Traffic Signal Electrician'\n",
      " 'Sr Counselor, Juvenile Hall' 'Asst Engr' 'Trans Safety Specialist'\n",
      " 'Utility Specialist' 'Deputy Sheriff (SFERS)' 'Chief Building Inspector'\n",
      " 'Chief Plumbing Inspector' 'Architect' 'Telecommunications Tech Supv'\n",
      " 'Carpenter Supervisor 2' 'Senior Const Inspector'\n",
      " 'Communications Line Wrk Sprv 2' 'Diagnostic Imaging Tech I'\n",
      " 'Sr Statnry Eng, Wtr Treat Plnt' 'Senior Building Inspector'\n",
      " 'Fire Protection Engineer' 'Electrician' 'Manager II, MTA'\n",
      " 'Dist Atty Investigator (SFERS)' 'Special Nurse'\n",
      " 'Traf Signal Electrician Sup II' 'Emergency Med Svcs Agency Spec'\n",
      " 'Stationary Eng, Sewage Plant' 'Maintenance Controller'\n",
      " 'Electrical Inspector' 'Maintenance Machinist Sprv 1'\n",
      " 'Supervising Purchaser' 'Senior Electrical Inpsector'\n",
      " 'Chief Electrical Inspector' 'Station Agent, Muni Railway'\n",
      " 'Public SafetyComm Supv' 'Lab Svcs Mgr' 'Safety Officer'\n",
      " 'Protective Services Supervisor' 'Criminalist III'\n",
      " 'Institutional Police Officer' 'Chf Stationary Eng, Sew Plant'\n",
      " 'IS Business Analyst-Senior' 'Senior Water Service Inspector'\n",
      " 'Undersheriff (SFERS)' 'Bldg & Grounds Maint Sprv'\n",
      " 'Sr. Stationary Eng, Sew Plant' 'Nursing Assistant'\n",
      " 'Senior Claims Investigator' 'Power Generation Technician 2'\n",
      " 'Locksmith Supervisor 1' 'Dep Dir I' 'Sr District Atty Investigator'\n",
      " 'Principal Personnel Analyst' 'Building Inspector' 'Public Relations Mgr'\n",
      " 'Mayoral Staff XIV' 'Street Environ Svcs Oprs Supv' 'Maintenance Planner'\n",
      " 'Ex Asst to Ex Dir, Retirement' 'Track Maintenance Worker'\n",
      " 'Operating Engineer, Universal' 'Switch Repairer'\n",
      " 'Automotive Mechanic Asst Sprv' 'Director, Probation Services'\n",
      " 'Senior Plumbing Inspector' 'Senior Occupational Therapist'\n",
      " 'Project Manager 1' 'Plumber Supervisor 1' 'Automotive Mechanic'\n",
      " 'Plumber Supervisor 2' 'Licensed Vocational Nurse'\n",
      " 'Airport Electrician Supervisor' \"Asst Chf Dist Atty's Invstgtor\"\n",
      " 'Claims Investigator' 'Contract Compliance Officer 2'\n",
      " 'Senior Industrial Hygienist' 'Planner 4-Environmental Review'\n",
      " 'Automotive Body & Fender Wrk' 'Water Conservation Admin'\n",
      " 'IT Operations Support Admin IV' 'Div Director, Adult Probation'\n",
      " 'Plumber' 'Water Service Inspector' 'Prnpl Admin Analyst II'\n",
      " 'IS Prg Analyst-Principal' 'Street Repair Supervisor 2' 'Chief Surveyor'\n",
      " 'Senior Property Manager, Port' 'Steamfitter Supervisor I'\n",
      " 'Crane Mechanic Supervisor' 'Mayoral Staff XI' 'Maintenance Manager'\n",
      " 'Transit Power Cable Splicer' 'Sr Environmental Hlth Insp'\n",
      " 'Elevator and Crane Technician' 'Planner 4' 'Airport Safety Officer'\n",
      " 'Light Rail Vehicle Equip Eng' 'Perf Analyst III Project Mgr'\n",
      " 'Electrician Supervisor II' 'Director, Juvenile Hall'\n",
      " 'Senior Physical Therapist' 'Cable Splicer' 'Senior Power House Operator'\n",
      " 'IT Operations Support Admin V' 'Mayoral Staff XIII'\n",
      " 'Automotive Machinist Sprv 1' 'IS Business Analyst'\n",
      " 'Chf Victim/Witness Invstgtor' 'Carpenter Supervisor 1'\n",
      " 'Transit Car Cleaner' 'Statnry Eng Water Treat Plant'\n",
      " 'Asst Dir of Clinical Svcs 1' 'Maintenance Scheduler'\n",
      " 'Utility Plumber Apprentice' 'Pr Administrative Analyst' 'Supv Chemist'\n",
      " 'Cement Finisher Supervisor 2' 'Airport Economic Planner'\n",
      " 'Architectural Assistant 2' 'ASR Senior Office Specialist'\n",
      " 'Transportation Planner IV' 'Real Estate Devt. Mgr, SFMTA'\n",
      " 'Senior Housing Inspector' 'Eligibility Worker Supervisor'\n",
      " 'Auto Machinist Asst Sprv' 'Automotive Machinist'\n",
      " 'Electr Instrmntn Tech Wtr Poll' 'Supv Biologist'\n",
      " 'Sheet Metal Supervisor 1' 'Protective Services Worker'\n",
      " 'Industrial Hygienist' 'Pr Environmental Hlth Insp'\n",
      " 'Patient Care Assistant' 'Senior Emp Relations Repres'\n",
      " 'Sheet Metal Wrk Supervisor 2' 'Biologist III'\n",
      " 'Asst Materials Coordinator' 'Auditor III' 'General Laborer Supervisor 1'\n",
      " 'Asst Forensic Toxicologist 1' 'Airport Communications Disp'\n",
      " 'Media/Security Syst Supv' 'Emergency Services Coord IV' 'Accountant IV'\n",
      " 'Senior Real Property Officer' 'Sprv Wastewater Cont Inspector'\n",
      " 'Member, Board of Supervisors' 'Senior Administrative Analyst'\n",
      " 'Employment & Training Spec 6' 'Heavy Equipment Ops Sprv'\n",
      " 'Sprv Clincal Psychologist' 'Senior Plan Checker' 'Sewer Service Worker'\n",
      " 'Public Relations Officer' 'Counselor, Log Cabin Ranch'\n",
      " 'Ex Dir, SE Com Fac Comm' 'Environmental Health Inspector'\n",
      " 'Senior Personnel Analyst' 'Architectural Administrator'\n",
      " 'Asphalt Finisher Supervisor 1' 'Chemist III' 'Parking Enforcement Admin'\n",
      " 'Materials Coordinator' 'City Shops Asst Superintendent'\n",
      " 'Principal Parts Storekeeper' 'Survey Associate' 'Criminalist II'\n",
      " 'Claims Adjuster' 'Dentist' 'Safety Analyst' 'Pr Real Property Appraiser'\n",
      " 'EEO Senior Specialist' 'Steamfitter' 'Pr Personal Property Auditor'\n",
      " 'Principal Environ Specialist' 'Housing Inspector'\n",
      " 'Maritime Marketing Repr' 'Engineering Associate 2' 'Transit Manager 1'\n",
      " 'Speech Pathologist' 'Power House Operator'\n",
      " \"District Attry's Investigator\" 'Industrial Engineer'\n",
      " 'Planner 3-Environmental Review' 'Coord of Citizen Involvement'\n",
      " 'Truck Driver' 'Transit Fare Insp. Sup/Invst.' 'Research Psychologist'\n",
      " 'Undersheriff' 'Asst Director, Juvenile Hall'\n",
      " 'SrClaimsInvstgtor,Cty Atty Ofc' 'Sr Community Dev Spec 2'\n",
      " 'IS Engineer-Assistant' 'Hospital Elig Wrk Supervisor'\n",
      " 'Psychiatric Social Worker' 'Senior Street Inspector'\n",
      " \"Worker's Compensation Adjuster\" 'Clinical Psychologist'\n",
      " 'Sheet Metal Worker' 'Asst Superintendent Rec' 'Planner 3'\n",
      " 'Occupational Therapist' 'Pipe Welder' 'Physical Therapist'\n",
      " 'Automotive Service Worker' 'Arborist Technician Supervisor'\n",
      " 'Electric Motor Repairer' 'Coord, Human Rights Comm'\n",
      " 'Soft Floor Coverer Supvr I' 'Senior Microbiologist'\n",
      " 'Airport Property Specialist 1' 'HSA Sr Eligibility Worker'\n",
      " 'Security Analyst' \"Worker's Comp Supervisor 1\" 'Regulatory Specialist'\n",
      " 'Cement Finisher Supervisor 1' 'Govrnmt/Publ Affairs Mgr'\n",
      " 'Watershed Forester' 'Marriage, Family & Child Cnslr'\n",
      " 'Assistant Law Librarian' 'Legislative Assistant'\n",
      " 'Communications Dispatcher 2' 'Transportation Planner III'\n",
      " \"Med Examiner's Investigator I\" 'Sr Sprv Prob Ofc, Juv Prob'\n",
      " 'Pr Payroll & Personnel Clerk' 'Shelter Veterinarian'\n",
      " 'Park Patrol Officer' 'Benefits Supervisor' 'Chief Housing Inspector'\n",
      " 'Sprv Prob Ofc, Juv Court' 'Airport Communications Officer'\n",
      " 'Sprv Adult Probation Ofc' 'Sr Psychiatric Social Worker'\n",
      " 'Street Inspection Supervisor' 'Locksmith' 'Painter Supervisor 1'\n",
      " 'Bd/Comm Secretary 3' 'Parking Control Officer'\n",
      " 'Sup Welfare Fraud Investigator' 'Sr Airport Communications Disp'\n",
      " 'Electric Motor Repair Sprv 1' 'Wastewater Control Inspector'\n",
      " 'Power Generation Technician 1' 'Piledriver Supervisor 1'\n",
      " 'Emergency Services Coord III' 'Carpenter' 'Water & Power Maint Sprv 1'\n",
      " 'Heavy Equip Ops Asst Sprv' 'Media/Security Sys Spec'\n",
      " 'Counselor, Juvenile Hall' 'Senior Purchaser'\n",
      " 'Sr Marriage, Fam & Cld Cnslr' 'Ornamental Iron Wrk Sprv 1'\n",
      " 'IS Administrator 3' 'Senior Health Program Planner'\n",
      " 'Employee Relations Representat' 'Property Manager, Port'\n",
      " 'Airport Emerg Planning Coord' 'Librarian 3'\n",
      " 'IS Administrator-Supervisor' 'Asst Dir, Log Cabin Rnch'\n",
      " 'Claims Investigator, CA' 'General Laborer' 'Social Work Specialist'\n",
      " 'Bricklayer' 'Personnel Analyst' 'Stage Electrician'\n",
      " 'Program Support Analyst' 'Real Property Manager' 'Biologist'\n",
      " 'Parts Storekeeper' 'Park Section Supervisor'\n",
      " 'Pr Fare Collections Receiver' 'Feasibility Analyst, Port'\n",
      " 'IS Trainer-Senior' 'Forester' 'Pharmacy Technician' 'Auditor II'\n",
      " 'Asst Clk, Board of Supervisors' 'Epidemiologist 2'\n",
      " 'Medical Social Work Supervisor' 'Curator 4' 'Assistant Storekeeper'\n",
      " 'Performance Analyst II' 'Electrical Line Helper'\n",
      " 'Commercial Div Asst Sprv' 'Sr Public Defenders Invstgtor'\n",
      " 'Senior Health Educator' 'Area Sprv Parks, Squares & Fac'\n",
      " 'Sr. Environmental Spec' 'Conservatorship/Case Mgt Sprv'\n",
      " 'IS Programmer Analyst' 'Administrative Services Mgr' 'Accountant III'\n",
      " 'AprntcStatnry Eng,WtrTreatPlnt' 'Apprentice Stationary Engineer'\n",
      " 'Senior Real Property Appraiser' 'Investigator, Tax Collector'\n",
      " 'IS Programmer Analyst-Senior' 'Sr Investigator, OCC' 'Glazier'\n",
      " 'Employment & Training Spec 5' 'Chf Payroll & Personnel Clerk'\n",
      " 'Painter Supervisor 2' 'Asst Chf Victim/Wit Invstgtor'\n",
      " 'Sr Personal Property Auditor' 'Secretary, Comm on the Environ'\n",
      " 'Asphalt Plant Supervisor 1' 'Fusion Welder' 'Pile Worker'\n",
      " 'Pr Investigator, Tax Collector' 'Airports Communications Sprv'\n",
      " 'Payroll Supervisor' 'Cement Mason' 'Piledriver Engine Operator'\n",
      " 'Deputy Sheriff 1' 'Program Specialist' 'Transit Fare Inspector'\n",
      " 'Investigator,Taxi & AccessSvcs' 'Pattern Maker'\n",
      " 'Events & Facilities Specialist' 'Food Service Mgr Administrator'\n",
      " 'Contract Compliance Officer 1' 'Administrative Hearing Sup'\n",
      " 'Chief Fire Alarm Dispatcher' 'Welfare Fraud Investigator'\n",
      " 'Sr Cent Proc & Dist Tech' 'Asst Electronic Main Tech'\n",
      " 'Main Machinist Asst Sprv' 'Sr Employee Asst Counselor' 'Museum Sec Supv'\n",
      " 'Aprntc Statnry Eng, Sew Plant' 'Municipal Stadium Groundskpr'\n",
      " 'Program Specialist Supervisor' 'Sprv, Traffic & Street Signs'\n",
      " 'Senior Medical Social Worker' 'Mental Hlth Treatment Spec'\n",
      " 'Assistant Const Inspector' 'Chemist' 'Invstgtor Ofc Citizen Cmplnts'\n",
      " 'Chief Dietitian' 'Health Program Coordinator 2' 'X-Ray Laboratory Aide'\n",
      " 'Junior Engineer' 'HH Mechanical Shop Sprv'\n",
      " 'Auto Body&Fender Wrk Asst Sprv' 'Nutritionist'\n",
      " 'IT Operations Support Admn III' 'Ex Asst to the Controller'\n",
      " 'Secretary, Library Commission' 'Librarian 2' 'Dental Hygienist'\n",
      " 'Medical Social Worker' 'Criminal Justice Specialist 2' 'Principal Clerk'\n",
      " 'Sr. Community Devl Spc 1' 'Public Health Team Leader'\n",
      " 'Patient Accounts Manager' 'Arborist Technician Supv II'\n",
      " 'Sctry, Bldg Inspection Comm' 'Market Research Spec, Port'\n",
      " 'Instructional Designer' 'Training Officer' 'Senior Management Assistant'\n",
      " 'IT Operations Support Admin II' 'Victim/Witness Investigator 3'\n",
      " 'Rep, Comm Status of Women' 'Transit Car Cleaner Asst Sprv'\n",
      " 'Health Educator' 'Sr Payroll & Personnel Clerk' 'Porter Supervisor 1'\n",
      " 'Transportation Planner II' 'Communications Dispatcher 1'\n",
      " 'Media Training Specialist' 'Patient Accounts Supervisor' 'Chef'\n",
      " 'Librarian 2 - Asian Arts' 'Administrative Analyst' 'IS Administrator 2'\n",
      " 'Media Production Supv' 'Medical Records Tech Sprv' 'Microbiologist'\n",
      " \"Public Defender's Investigator\" 'Rehabilitation Svcs Coord'\n",
      " 'Medical Evaluations Assistant' 'Water Quality Technician'\n",
      " 'Comm Pol Svcs Aide Supervisor' 'Child Support Officer III' 'Audiologist'\n",
      " 'Engineering Associate 1' 'Roofer Supervisor 1' 'Painter'\n",
      " 'Employee Assistance Counselor' 'Secretary, Health Commission'\n",
      " 'Emp & Training Spec 4' 'Fire Alarm Dispatcher'\n",
      " 'Counselor, Juvenile Hall SFERS' 'Central Processing & Dist Tech'\n",
      " 'Arborist Technician' 'General Utility Mechanic'\n",
      " 'Custodial Assistant Supervisor' 'Senior Benefits Analyst'\n",
      " 'Utility Analyst' 'Mayoral Staff IX' 'Environmental Spec'\n",
      " 'Fingerprint Technician 2' 'Surgical Procedures Technician'\n",
      " 'Watershed Keeper Supervisor' 'Street Inspector' 'Health Program Planner'\n",
      " 'Social Work Supervisor' 'EEO Programs Specialist'\n",
      " 'Senior Estate Investigator' 'Unit Clerk' 'Recreation Supervisor'\n",
      " 'Senior Personnel Clerk' 'Eligibility Worker' 'Auto Svc Wrk Asst Sprv'\n",
      " 'Sr Fare Collections Receiver' 'Dir of Act, Therapy & Vol Svcs'\n",
      " 'Health Worker 4' 'Hospital Eligiblity Worker'\n",
      " 'Physical Therapist Assistant' 'Asst General Services Manager'\n",
      " 'Water Quality Tech III' 'Integrated Pest Mgmt Specialst'\n",
      " 'Executive Secretary 3' 'Porter Assistant Supervisor'\n",
      " 'Rep, Human Rights Comm' 'Health Care Analyst' 'Ornamental Iron Worker'\n",
      " 'Security Guard' 'Planner 2' 'Assistant Industrial Hygienist'\n",
      " 'Psychiatric Technician' 'Survey Assistant II'\n",
      " 'Water Meter Shop Supervisor 1' 'Illustrator and Art Designer'\n",
      " 'Chief Clerk' 'Real Property Appraiser' 'Janitorial Services Supervisor'\n",
      " 'Med Staff Svcs Dept Anl' 'Customer Service Agent Supv'\n",
      " 'Sewer Maintenance Worker' 'Deputy Probation Officer SFERS' 'Librarian 1'\n",
      " 'Depty Sealer of Weights & Meas' 'Watershed Keeper' 'Estate Investigator'\n",
      " 'Assoc Musm Cnsrvt, AAM' 'Junior Management Assistant'\n",
      " 'Fingerprint Technician 3' 'IS Trainer-Journey' 'Dietitian'\n",
      " 'Executive Secretary 2' 'Parking Meter Repairer Sprv 1'\n",
      " 'Medical Records Technician' 'Personal Property Auditor'\n",
      " 'Engineering Assistant' 'Roofer' 'Employment & Training Spec 3'\n",
      " 'Assistant Counselor' 'Purchaser' 'Museum Guard' 'Senior Clerk Typist'\n",
      " 'Legal Assistant' 'Graphics Supervisor' 'IS Business Analyst-Assistant'\n",
      " 'Prpl Permit and Citation Clerk' 'Janitorial Svcs Asst Sprv'\n",
      " 'Legal Secretary 2' 'Junior Administrative Analyst' 'Hodcarrier'\n",
      " 'Gardener' 'Victim/Witness Investigator 2' 'Patient Accounts Asst Sprv'\n",
      " 'Wharfinger 2' 'Senior Parts Storekeeper' 'Snr Permit and Citation Clerk'\n",
      " 'HSA Emp & Training Spec II' 'Community Police Services Aide'\n",
      " 'Architectural Assistant 1' 'Customer Service Agent' 'Cook'\n",
      " 'Forensic Laboratory Technician' 'Management Assistant' 'Clerk'\n",
      " 'Assistant Health Educator' 'Public Information Officer'\n",
      " 'HSA Social Worker' 'Curator 3' 'Community Development Spec'\n",
      " 'Airport Noise Abatement Spec' 'Window Cleaner Supervisor'\n",
      " 'Library Technical Assistant 2' 'Nursery Specialist'\n",
      " 'Citizens Complaint Officer' 'Custodian' 'Payroll Clerk'\n",
      " 'Child Support Officer II' 'Acupuncturist' 'Legislative Clerk'\n",
      " 'Human Services Technician' 'Health Worker 1' 'Rehabilitation Counselor'\n",
      " 'Patient Accounts Clerk' 'Senior Transit Traffic Checker' 'Accountant II'\n",
      " 'Assistant Retirement Analyst' 'Medical Records Clerk'\n",
      " 'Respiratory Care Practitioner' 'Secretary 2' 'Legal Secretary 1'\n",
      " 'Criminalist I' 'Animal Control Supervisor' 'Window Cleaner'\n",
      " 'Executive Secretary 1' 'Health Worker 2' 'Mayoral Staff VII'\n",
      " 'Health Program Coordinator 1' 'Epidemiologist 1'\n",
      " 'Volunteer/Outreach Coord' 'Collection Supervisor' 'Survey Assistant I'\n",
      " 'Principal Account Clerk' 'Senior Pharmacy Helper'\n",
      " 'Senior Psychiatric Orderly' 'Sprv Adult Prob Ofc (SFERS)'\n",
      " 'Soft Floor Coverer' 'Senior Collections Officer' 'Water Meter Repairer'\n",
      " 'Principal Museum Preparator' 'Senior Social Worker'\n",
      " 'Rent Board Supervisor' 'Principal Water Services Clerk'\n",
      " 'Senior Laundry Worker' 'Curator 2' 'Health Care Billing Clerk 2'\n",
      " 'Counselor 2' 'Porter' 'Tile Setter' 'Pharmacy Helper'\n",
      " 'DA Investigative Assist' 'Stores & Equip Asst Sprv'\n",
      " 'Forensic Autopsy Technician' 'Therapy Aide'\n",
      " 'Materials Testing Technician' 'Industrial Injury Investigator'\n",
      " 'Nurses Staffing Assistant' 'Senior Clerk' 'Clerk Typist'\n",
      " 'Aquatics Facility Supervisor' 'Parking Meter Repairer'\n",
      " 'Mail & Reproduction Svc Sprv' 'Asphalt Finisher' 'Custodial Supervisor'\n",
      " 'Urban Forestry Inspector' 'Medical Transcriber Typist'\n",
      " 'Senior Book Repairer' 'Fare Collections Receiver'\n",
      " 'Traffic Survey Technician' 'Research Assistant' 'Benefits Analyst'\n",
      " 'Library Technical Assistant 1' 'Asphalt Worker'\n",
      " 'Food Service Supervisor' 'Permit and Citation Clerk'\n",
      " 'Assistant Purchaser' 'Senior Morgue Attendant' 'Media Programming Spec'\n",
      " 'Senior Water Services Clerk' 'Admin Hearing Examiner' 'Home Health Aide'\n",
      " 'Sen Hospital Eligibility Wrkr' 'Disease Control Investigator'\n",
      " 'Senior Legal Process Clerk' 'Planner 1' 'Sign Worker' 'Metalsmith'\n",
      " 'Environmental Hlth Tech 1' 'Media Production Specialist'\n",
      " 'Senior Food Service Supervisor' 'Document Examiner Technician'\n",
      " 'Emergency Services Coord II' 'Auditor I' 'Senior Unit Clerk'\n",
      " 'Bldg & Grounds Patrol Officer' 'Shelter Officer Supervisor'\n",
      " 'Electroencephalograph Tech 1' 'Dental Aide' 'Accountant I'\n",
      " 'Arts Program Assistant' 'Environmental Assistant' 'Personnel Technician'\n",
      " 'Victim/Witness Investigator 1' 'Transit Traffic Checker'\n",
      " 'Supv Bldg Grounds Patrol Ofcr' 'Health Worker 3'\n",
      " 'IT Operations Support Admin I' 'Senior Account Clerk' 'Storekeeper'\n",
      " 'Marina Assistant' 'Cashier 2' 'Court Alternative Specialist 1'\n",
      " 'Animal Keeper' 'Orthopedic Technician 2' 'Special Assistant 11'\n",
      " 'Employment & Training Spec 1' 'Offset Machine Operator'\n",
      " 'Legislative Asst City Atty Ofc' 'Public Service Trainee' 'Social Worker'\n",
      " 'Animal Control Officer' 'Med Staff Svcs Dept Spc'\n",
      " 'Emergency Services Coord I' 'Patient Svcs Finance Tech' 'Secretary 1'\n",
      " 'IS Operator-Senior' 'Counselor,Log Cabin Rnch SFERS'\n",
      " 'Food Service Worker' 'Wharfinger 1' 'IS Trainer-Assistant'\n",
      " 'Transit Information Clerk' 'Agricultural Inspector' 'Senior Storekeeper'\n",
      " 'Inspector, Weights & Measures' 'Museum Registrar'\n",
      " 'Community Development Asst' 'Graphic Artist' 'Fingerprint Technician 1'\n",
      " 'Senior Telephone Operator' 'Hospital Eligibility Worker'\n",
      " 'Lighting Fixture Maint Worker' 'Chief Telephone Operator'\n",
      " 'Collections Officer' 'Benefits Technician' 'Mayoral Staff IV'\n",
      " 'Sr Transit Information Clerk' 'Materials Testing Aide'\n",
      " 'Health Care Billing Clerk 1' 'Laboratory Technician II'\n",
      " 'Sr. Microphoto/Imaging Tech.' 'Elections Worker' 'Inspector 2'\n",
      " 'Media Production Tech' 'Recreation Coordinator' 'Farmer'\n",
      " 'Shelter Office Asst Supv' 'Assessor-Recorder Office Spec'\n",
      " 'Library Assistant' 'Meter Reader' 'Cashier 1'\n",
      " 'IS Program Analyst-Assistant' 'Senior Food Service Worker'\n",
      " 'Photographer' 'Elections Clerk' 'Senior Museum Preparator' 'Curator 1'\n",
      " 'Planner Technician' 'Senior Transcriber Typist' 'Claims Process Clerk'\n",
      " 'Assistant Cook' 'Stable Attendant' 'Recreation Specialist'\n",
      " 'Orthopedic Technician 1' 'Animal Care Asst Supv' 'Dietetic Technician'\n",
      " 'Shelter Service Rep' 'Transcriber Typist' 'Animal Care Attendant'\n",
      " 'Inventory Clerk' \"Sheriff's Cadet\" 'Sr Materials & Supplies Sprv'\n",
      " 'Crafts Instructor' 'Housekeeper/Food Service Clnr' 'Telephone Operator'\n",
      " 'Legal Process Clerk' 'Personnel Clerk' 'Personnel Trainee'\n",
      " 'Environmental Service Worker' 'Supervising Parts Storekeeper'\n",
      " 'Account Clerk' 'Museum Preparator' 'Institution Utility Worker'\n",
      " 'Aquatics Facility Asst Supv' 'Public Relations Assistant'\n",
      " 'Book Repairer' 'Laboratory Technician I' 'ASR-Office Assistant'\n",
      " 'Assessment Clerk' 'StdntDsgn Train2/Arch/Eng/Plng'\n",
      " 'Swimming Instr/Pool Lifeguard' 'Associate Museum Registrar'\n",
      " 'Performance Analyst I' 'Apprentice Gardener' 'Special Assistant 3'\n",
      " 'Sctry, Juv Probation Comm' 'Materials/Supplies Supervisor'\n",
      " 'Shade and Drapery Worker' 'Sr Medical Transcriber Typist'\n",
      " 'ACPO,JuvP, Juv Prob (SFERS)' 'Field Svcs Asst Supv'\n",
      " 'StdntDsgnTrain1, Arch/Eng/Plng' 'Admission Attendant' 'Junior Clerk'\n",
      " 'Mgr Museum Security Services' 'Library Page' 'Beautician'\n",
      " 'Senior Eligibility Worker' 'Child Care Specialist'\n",
      " 'Microphoto/Imaging Technician' 'Public Service Aide-Admin' 'Court Clerk'\n",
      " 'Traffic Signal Operator' 'PrDAInvest,SpecUnit (SFERS)'\n",
      " 'Chief Preparator' 'Public Svc Aide-Public Works' 'Morgue Attendant'\n",
      " 'Apprentice Cement Mason I' 'Accountant Intern' 'Emp & Training Spec 2'\n",
      " 'PS Aide to Prof' 'Junior Clerk Typist' 'Publ Svc Aide-Asst to Prof'\n",
      " 'Recreation Leader' 'Statistician' 'StdntDsgnTrain3, Arch/Eng/Plng'\n",
      " 'Chief Deputy Adlt Probation Of' 'PS Aide Health Services'\n",
      " \"Sheriff's Property Keeper\" 'Animal Health Technician' 'Mayoral Staff V'\n",
      " 'Marina Associate Manager' 'Mayoral Staff II' 'Youth Comm Advisor'\n",
      " 'Audiometrist' 'Principal Recreation Sprv' 'Special Assistant 10'\n",
      " 'Chemist I/II' 'Emergency Services Assistant'\n",
      " 'Signal and Systems Engineer' 'Customer Service Agent Trainee'\n",
      " 'Chief Nursery Specialist' 'Sctry, Human Svcs. Commission'\n",
      " 'Sr Cnselor, Juv Hall (SFERS)' 'Swimming Instructor' 'Braillist'\n",
      " 'City Planning Intern' 'Forensic Toxicologist Supervis'\n",
      " 'Power Plant Supervisor 1' 'Dir, Log Cabin Ranch (SFERS)'\n",
      " 'Watershed Worker (Seasonal)' 'Pool Lifeguard' 'Testing Technician'\n",
      " 'IS Operator-Journey' 'Transit Planner 4' 'School Crossing Guard'\n",
      " 'Assistant Recreation Director' 'Transit Planner 2' 'Baker'\n",
      " 'Commissioner No Benefits' 'Recreation Director'\n",
      " 'Cfdntal Sctry to City Atty' 'Transit Planner III'\n",
      " 'Brd Comm Mbr, M=$200/Mtg' 'Water QualityTech I/II' 'Camp Assistant'\n",
      " 'Victim & Witness Technician' 'Special Assistant 15' 'Special Examiner'\n",
      " 'BdComm Mbr, Grp5,M$100/Mo' 'BdComm Mbr, Grp3,M=$50/Mtg'\n",
      " 'Mayoral Staff X' 'Barber' 'Marina Assistant Manager' 'Conversion'\n",
      " 'Cashier 3' 'BdComm Mbr, Grp2,M=$25/Mtg']\n"
     ]
    }
   ],
   "source": [
    "print(salaries_df.columns)\n",
    "status_valuess = salaries_df['JobTitle'].unique()\n",
    "print(status_valuess)"
   ]
  },
  {
   "cell_type": "markdown",
   "metadata": {
    "id": "eBkEuDaLzSyG"
   },
   "source": [
    "# Challenge 2 - Hypothesis Tests\n",
    "\n",
    "In this section of the lab, we will test whether the hourly wage of **all FT workers is significantly different from $75/hr**. Get first the hourly wage by dividing \"TotalPayBenefits\" by 50 weeks (assuming 10 labour days of holidays) and by 40hrs (assuming a 40hrs week).\n",
    "\n",
    "$$Hourly Wage = \\frac{TotalPayBenefits}{1 year}\\frac{1 year}{50 Week}\\frac{1 Week}{40 hr}$$\n",
    "\n",
    "Import the correct one sample test function from scipy and perform the hypothesis test for a 95% two sided confidence interval."
   ]
  },
  {
   "cell_type": "code",
   "execution_count": 68,
   "metadata": {},
   "outputs": [
    {
     "name": "stdout",
     "output_type": "stream",
     "text": [
      "T-statistic: -4126.048135112739\n",
      "P-value: 0.0\n",
      "Reject the null hypothesis: The hourly wage is significantly different from $75/hr.\n"
     ]
    }
   ],
   "source": [
    "salaries_df['Hourly_Wage'] = salaries_df['TotalPayBenefits'] / (50 * 40 * 10)\n",
    "\n",
    "null_hypothesis_value = 75  \n",
    "\n",
    "t_statistic, p_value = ttest_1samp(salaries_df['Hourly_Wage'], null_hypothesis_value)\n",
    "\n",
    "print(f'T-statistic: {t_statistic}')\n",
    "print(f'P-value: {p_value}')\n",
    "\n",
    "alpha = 0.05\n",
    "if p_value < alpha:\n",
    "    print(\"Reject the null hypothesis: The hourly wage is significantly different from $75/hr.\")\n",
    "else:\n",
    "    print(\"Fail to reject the null hypothesis: There is not enough evidence to suggest a significant difference in hourly wage.\")\n"
   ]
  },
  {
   "cell_type": "markdown",
   "metadata": {
    "id": "YvxOReoszSyI"
   },
   "source": [
    "Are all the methods in agreement?"
   ]
  },
  {
   "cell_type": "markdown",
   "metadata": {
    "id": "6W3OpLYuzSyI"
   },
   "source": [
    "We are also curious about salaries in the police force. The chief of police in San Francisco claimed in a press briefing that salaries this year are **higher than last year's mean of $86000/year for all salaried employees** (use the column \"TotalPayBenefits\". Test  hypothesis using a 95% confidence interval.\n",
    "\n",
    "Hint: Use apply and a lambda function to check in \"Police\" is in the \"JobTitle\" to get all the \"Police\" jobs."
   ]
  },
  {
   "cell_type": "code",
   "execution_count": 69,
   "metadata": {
    "colab": {
     "base_uri": "https://localhost:8080/"
    },
    "id": "SZJ_pHiUzSyI",
    "outputId": "1b3fe9d9-2589-4afa-d7b0-4d09251a3ba3"
   },
   "outputs": [
    {
     "name": "stdout",
     "output_type": "stream",
     "text": [
      "T-statistic for Police Salaries: 50.252984742109945\n",
      "P-value for Police Salaries: 0.0\n",
      "Reject the null hypothesis: Police salaries are significantly higher than $86,000/year.\n"
     ]
    }
   ],
   "source": [
    "police_salaries = salaries_df[salaries_df['JobTitle'].apply(lambda x: 'Police' in x)]\n",
    "\n",
    "claimed_mean_salary = 86000\n",
    "\n",
    "t_statistic_police, p_value_police = ttest_1samp(police_salaries['TotalPayBenefits'], claimed_mean_salary)\n",
    "\n",
    "print(f'T-statistic for Police Salaries: {t_statistic_police}')\n",
    "print(f'P-value for Police Salaries: {p_value_police}')\n",
    "\n",
    "alpha = 0.05\n",
    "if p_value_police < alpha:\n",
    "    print(\"Reject the null hypothesis: Police salaries are significantly higher than $86,000/year.\")\n",
    "else:\n",
    "    print(\"Fail to reject the null hypothesis: There is not enough evidence to suggest a significant difference in police salaries.\")\n"
   ]
  },
  {
   "cell_type": "markdown",
   "metadata": {
    "id": "wPCpi313zSyJ"
   },
   "source": [
    "The workers from the \"JobTitle\" with the most employees have complained that their hourly wage is **less than $35/hour**. Using a one sample t-test, test this one-sided hypothesis at the 95% confidence level."
   ]
  },
  {
   "cell_type": "code",
   "execution_count": 74,
   "metadata": {
    "colab": {
     "base_uri": "https://localhost:8080/",
     "height": 35
    },
    "id": "m6X0DN4czSyJ",
    "outputId": "ed950bc6-1be7-4df6-be61-977bfb95d375"
   },
   "outputs": [
    {
     "name": "stdout",
     "output_type": "stream",
     "text": [
      "T-statistic for Most Common JobTitle: -1244.8069967747347\n",
      "P-value for Most Common JobTitle: 0.0\n",
      "Reject the null hypothesis: Hourly wage for Transit Operator is significantly less than $35/hour.\n"
     ]
    },
    {
     "name": "stderr",
     "output_type": "stream",
     "text": [
      "C:\\Users\\imran\\AppData\\Local\\Temp\\ipykernel_20376\\3339513094.py:7: SettingWithCopyWarning: \n",
      "A value is trying to be set on a copy of a slice from a DataFrame.\n",
      "Try using .loc[row_indexer,col_indexer] = value instead\n",
      "\n",
      "See the caveats in the documentation: https://pandas.pydata.org/pandas-docs/stable/user_guide/indexing.html#returning-a-view-versus-a-copy\n",
      "  most_common_job_salaries['Hourly_Wage'] = most_common_job_salaries['TotalPayBenefits'] / (50 * 40 * 10)\n"
     ]
    }
   ],
   "source": [
    "most_common_job_title = salaries_df['JobTitle'].mode().iloc[0]\n",
    "\n",
    "most_common_job_salaries = salaries_df[salaries_df['JobTitle'] == most_common_job_title]\n",
    "\n",
    "most_common_job_salaries['Hourly_Wage'] = most_common_job_salaries['TotalPayBenefits'] / (50 * 40 * 10)\n",
    "\n",
    "null_hypothesis_value = 35  \n",
    "\n",
    "t_statistic_most_common_job, p_value_most_common_job = ttest_1samp(most_common_job_salaries['Hourly_Wage'], null_hypothesis_value)\n",
    "\n",
    "print(f'T-statistic for Most Common JobTitle: {t_statistic_most_common_job}')\n",
    "print(f'P-value for Most Common JobTitle: {p_value_most_common_job}')\n",
    "\n",
    "alpha = 0.05\n",
    "if p_value_most_common_job < alpha and t_statistic_most_common_job < 0:\n",
    "    print(f\"Reject the null hypothesis: Hourly wage for {most_common_job_title} is significantly less than $35/hour.\")\n",
    "else:\n",
    "    print(f\"Fail to reject the null hypothesis: There is not enough evidence to suggest a significant difference in hourly wage for {most_common_job_title}.\")\n",
    "\n"
   ]
  },
  {
   "cell_type": "markdown",
   "metadata": {
    "id": "ZNtFKSmuzSyK"
   },
   "source": [
    "# Challenge 3: To practice - Constructing Confidence Intervals\n",
    "\n",
    "While testing our hypothesis is a great way to gather empirical evidence for accepting or rejecting the hypothesis, another way to gather evidence is by creating a confidence interval. A confidence interval gives us information about the true mean of the population. So for a 95% confidence interval, we are 95% sure that the mean of the population is within the confidence interval. \n",
    ").\n",
    "\n",
    "To read more about confidence intervals, click [here](https://en.wikipedia.org/wiki/Confidence_interval).\n",
    "\n",
    "\n",
    "In the cell below, we will construct a 95% confidence interval for the mean hourly wage of all hourly workers. \n",
    "\n",
    "To compute the confidence interval of the hourly wage, use the 0.95 for the confidence level."
   ]
  },
  {
   "cell_type": "code",
   "execution_count": 82,
   "metadata": {},
   "outputs": [
    {
     "name": "stdout",
     "output_type": "stream",
     "text": [
      "95% Confidence Interval for Mean Hourly Wage: (4.67, 4.70)\n"
     ]
    }
   ],
   "source": [
    "hourly_workers = salaries_df[salaries_df['Hourly_Wage'].notnull()]\n",
    "\n",
    "sample_mean = hourly_workers['Hourly_Wage'].mean()\n",
    "sample_std = hourly_workers['Hourly_Wage'].std()\n",
    "sample_size = len(hourly_workers)\n",
    "\n",
    "confidence_level = 0.95\n",
    "\n",
    "margin_of_error = t.ppf((1 + confidence_level) / 2, sample_size - 1) * (sample_std / np.sqrt(sample_size))\n",
    "\n",
    "confidence_interval = (sample_mean - margin_of_error, sample_mean + margin_of_error)\n",
    "\n",
    "print(f\"95% Confidence Interval for Mean Hourly Wage: ({confidence_interval[0]:.2f}, {confidence_interval[1]:.2f})\")"
   ]
  },
  {
   "cell_type": "markdown",
   "metadata": {
    "id": "K3FbLwVjzSyL"
   },
   "source": [
    "Now compute a 95% confidence interval for the hourly salary of all the Police employees."
   ]
  },
  {
   "cell_type": "code",
   "execution_count": 87,
   "metadata": {
    "colab": {
     "base_uri": "https://localhost:8080/"
    },
    "id": "kJHkhMr6zSyL",
    "outputId": "9e39906c-f69b-462d-ebd4-af1dfcac014b"
   },
   "outputs": [
    {
     "name": "stdout",
     "output_type": "stream",
     "text": [
      "95% Confidence Interval for Mean Hourly Salary of Police Employees: (7.30, 7.54)\n"
     ]
    }
   ],
   "source": [
    "police_hourly_workers = police_salaries[police_salaries['Hourly_Wage'].notnull()]\n",
    "\n",
    "police_sample_mean = police_hourly_workers['Hourly_Wage'].mean()\n",
    "police_sample_std = police_hourly_workers['Hourly_Wage'].std()\n",
    "police_sample_size = len(police_hourly_workers)\n",
    "\n",
    "confidence_level = 0.95\n",
    "\n",
    "police_margin_of_error = t.ppf((1 + confidence_level) / 2, police_sample_size - 1) * (police_sample_std / np.sqrt(police_sample_size))\n",
    "\n",
    "police_confidence_interval = (police_sample_mean - police_margin_of_error, police_sample_mean + police_margin_of_error)\n",
    "\n",
    "print(f\"95% Confidence Interval for Mean Hourly Salary of Police Employees: ({police_confidence_interval[0]:.2f}, {police_confidence_interval[1]:.2f})\")"
   ]
  },
  {
   "cell_type": "code",
   "execution_count": 86,
   "metadata": {},
   "outputs": [
    {
     "name": "stdout",
     "output_type": "stream",
     "text": [
      "Mean Hourly Salary of Police Employees: 7.42\n"
     ]
    }
   ],
   "source": [
    "mean_police_hourly_salary = police_hourly_workers['Hourly_Wage'].mean()\n",
    "\n",
    "print(f\"Mean Hourly Salary of Police Employees: {mean_police_hourly_salary:.2f}\")"
   ]
  },
  {
   "cell_type": "markdown",
   "metadata": {
    "id": "weFO_tpszSyL"
   },
   "source": [
    "# Chi2 test"
   ]
  },
  {
   "cell_type": "markdown",
   "metadata": {
    "id": "HfCTSUjSzSyL"
   },
   "source": [
    "Now we want to know if the amount of full time \"FT\" and part time \"PT\" employees is equal between Lawers, Meds, Police, Firemen and other departments. \n",
    "\n",
    "Considering all the options in this groups of employees will be very time consuming. To simplify this process, create first a function that returns:\n",
    "\n",
    "* \"Policemen\" if \"Police\" is found on \"JobTitle\"\n",
    "* \"Firemen\" if \"Fire\" is found on \"JobTitle\"\n",
    "* \"Medical\" if \"Med\" or \"Nurse\" is found on \"JobTitle\"\n",
    "* \"Lawyer\" if \"Attorney\" is found on \"JobTitle\"\n",
    "* \"Other\" in any other cases\n",
    "\n",
    "Then, create a new column named \"employee_group\" that determines to which group belong the employee. "
   ]
  },
  {
   "cell_type": "code",
   "execution_count": 90,
   "metadata": {
    "id": "ZojYuxvazSyM"
   },
   "outputs": [
    {
     "name": "stdout",
     "output_type": "stream",
     "text": [
      "                                              JobTitle employee_group\n",
      "0       GENERAL MANAGER-METROPOLITAN TRANSIT AUTHORITY          Other\n",
      "1                      CAPTAIN III (POLICE DEPARTMENT)      Policemen\n",
      "2                      CAPTAIN III (POLICE DEPARTMENT)      Policemen\n",
      "3                 WIRE ROPE CABLE MAINTENANCE MECHANIC          Other\n",
      "4         DEPUTY CHIEF OF DEPARTMENT,(FIRE DEPARTMENT)        Firemen\n",
      "...                                                ...            ...\n",
      "148649                                       Custodian          Other\n",
      "148650                                    Not provided          Other\n",
      "148651                                    Not provided          Other\n",
      "148652                                    Not provided          Other\n",
      "148653                      Counselor, Log Cabin Ranch          Other\n",
      "\n",
      "[148654 rows x 2 columns]\n"
     ]
    }
   ],
   "source": [
    "def determine_employee_group(job_title):\n",
    "    job_title_lower = job_title.lower()\n",
    "    if 'police' in job_title_lower:\n",
    "        return 'Policemen'\n",
    "    elif 'fire' in job_title_lower:\n",
    "        return 'Firemen'\n",
    "    elif 'med' in job_title_lower or 'nurse' in job_title_lower:\n",
    "        return 'Medical'\n",
    "    elif 'attorney' in job_title_lower:\n",
    "        return 'Lawyer'\n",
    "    else:\n",
    "        return 'Other'\n",
    "\n",
    "salaries_df['employee_group'] = salaries_df['JobTitle'].apply(determine_employee_group)\n",
    "\n",
    "print(salaries_df[['JobTitle', 'employee_group']])"
   ]
  },
  {
   "cell_type": "markdown",
   "metadata": {
    "id": "TPCdBgKezSyM"
   },
   "source": [
    "Determine how many \"PT\" and \"FT\" employess have all the employees groups."
   ]
  },
  {
   "cell_type": "code",
   "execution_count": 92,
   "metadata": {
    "colab": {
     "base_uri": "https://localhost:8080/",
     "height": 237
    },
    "id": "GB8tp2rDzSyM",
    "outputId": "b5a3ca3c-2300-4d37-ac9f-ca4b1cf80ceb"
   },
   "outputs": [
    {
     "name": "stdout",
     "output_type": "stream",
     "text": [
      "  employee_group Status  Count\n",
      "0        Firemen     FT   1333\n",
      "1        Firemen     PT    178\n",
      "2         Lawyer     FT    317\n",
      "3         Lawyer     PT    102\n",
      "4        Medical     FT   1028\n",
      "5        Medical     PT   2889\n",
      "6          Other     FT  18126\n",
      "7          Other     PT  12245\n",
      "8      Policemen     FT   1530\n",
      "9      Policemen     PT    371\n"
     ]
    }
   ],
   "source": [
    "employee_counts = salaries_df.groupby(['employee_group', 'Status']).size().reset_index(name='Count')\n",
    "\n",
    "print(employee_counts)"
   ]
  },
  {
   "cell_type": "markdown",
   "metadata": {
    "id": "CJb-kx-7zSyM"
   },
   "source": [
    "Now try compute the expected frequencies doing the calculations with the individual probabilities. Remember that the Chi2 test assumes that both variables (employee_group and FT/PT) are not related (therefore they are independent). Therefore, to compute the expected frequencies you need to compute the probability of each cell and multiply it by the number of observations. ie:\n",
    "\n",
    "$$\\nu(x,y) = p(x,y) * N = p(x) * p(y) * N$$\n",
    "\n",
    "bear in mind that in general: $p(x,y)\\neq p(x)*p(y)$; the equality will only be true if x and y are independent. However, the null hypotheses says that **x and y are independent.** but that's what we're assuming with the null hypotheses.\n",
    "\n",
    "where \"x\" is the \"employee_group\" and \"y\" the (FT/PT). "
   ]
  },
  {
   "cell_type": "code",
   "execution_count": 43,
   "metadata": {},
   "outputs": [],
   "source": [
    "# Create an empty dataframe named \"frequencies\" to store the data.\n",
    "# Your code here:"
   ]
  },
  {
   "cell_type": "code",
   "execution_count": 94,
   "metadata": {},
   "outputs": [],
   "source": [
    "frequencies = pd.DataFrame(columns=['employee_group', 'Status', 'Count', 'Expected'])"
   ]
  },
  {
   "cell_type": "code",
   "execution_count": 44,
   "metadata": {},
   "outputs": [],
   "source": [
    "# Your code here: Compute Expected frequency of being \"Firemen\" and \"FT\". Store the solution in a variable named \"firemen_ft\""
   ]
  },
  {
   "cell_type": "code",
   "execution_count": 95,
   "metadata": {
    "colab": {
     "base_uri": "https://localhost:8080/"
    },
    "id": "1ld-NVuczSyN",
    "outputId": "8f4e0114-77c2-446b-f02f-bc5440b3fb9a"
   },
   "outputs": [],
   "source": [
    "prob_firemen = prob_employee_group.get('Firemen', 0)\n",
    "prob_ft = prob_status.get('FT', 0)\n",
    "\n",
    "firemen_ft = prob_firemen * prob_ft * len(salaries_df)"
   ]
  },
  {
   "cell_type": "code",
   "execution_count": 45,
   "metadata": {},
   "outputs": [],
   "source": [
    "# Your code here: Compute Expected frequency of being \"Firemen\" and \"PT\". Store the solution in a variable named \"firemen_pt\""
   ]
  },
  {
   "cell_type": "code",
   "execution_count": 96,
   "metadata": {
    "colab": {
     "base_uri": "https://localhost:8080/"
    },
    "id": "RUp3VAXIzSyN",
    "outputId": "f20f5b9b-62fe-48b9-9638-a609464a0a06"
   },
   "outputs": [],
   "source": [
    "firemen_pt = prob_firemen * prob_status.get('PT', 0) * len(salaries_df)"
   ]
  },
  {
   "cell_type": "code",
   "execution_count": 46,
   "metadata": {},
   "outputs": [],
   "source": [
    "# Your code here: Compute Expected frequency of being \"Lawyers\" and \"FT\". Store the solution in a variable named \"lawyers_ft\""
   ]
  },
  {
   "cell_type": "code",
   "execution_count": 98,
   "metadata": {
    "colab": {
     "base_uri": "https://localhost:8080/"
    },
    "id": "5zTnWHxdzSyN",
    "outputId": "fa3db9aa-9fbb-482e-f35a-13fa9e605405"
   },
   "outputs": [],
   "source": [
    "prob_lawyers = prob_employee_group.get('Lawyer', 0)\n",
    "lawyers_ft = prob_lawyers * prob_status.get('FT', 0) * len(salaries_df)"
   ]
  },
  {
   "cell_type": "code",
   "execution_count": 47,
   "metadata": {},
   "outputs": [],
   "source": [
    "# Your code here: Compute Expected frequency of being \"Lawyers\" and \"PT\". Store the solution in a variable named \"lawyers_pt\""
   ]
  },
  {
   "cell_type": "code",
   "execution_count": 99,
   "metadata": {
    "colab": {
     "base_uri": "https://localhost:8080/"
    },
    "id": "f_E2hWy7zSyN",
    "outputId": "0589a145-35fb-4441-c5e8-32bce904e01a"
   },
   "outputs": [],
   "source": [
    "lawyers_pt = prob_lawyers * prob_status.get('PT', 0) * len(salaries_df)"
   ]
  },
  {
   "cell_type": "code",
   "execution_count": 48,
   "metadata": {},
   "outputs": [],
   "source": [
    "# Your code here: Compute Expected frequency of being \"Medical\" and \"FT\". Store the solution in a variable named \"medical_ft\""
   ]
  },
  {
   "cell_type": "code",
   "execution_count": 100,
   "metadata": {
    "colab": {
     "base_uri": "https://localhost:8080/"
    },
    "id": "TJSVxXMlzSyN",
    "outputId": "4731e0ca-028d-4582-fc75-772b2e3644b2"
   },
   "outputs": [],
   "source": [
    "prob_medical = prob_employee_group.get('Medical', 0)\n",
    "medical_ft = prob_medical * prob_status.get('FT', 0) * len(salaries_df)"
   ]
  },
  {
   "cell_type": "code",
   "execution_count": 49,
   "metadata": {},
   "outputs": [],
   "source": [
    "# Your code here: Compute Expected frequency of being \"Medical\" and \"PT\". Store the solution in a variable named \"medical_pt\""
   ]
  },
  {
   "cell_type": "code",
   "execution_count": 101,
   "metadata": {
    "colab": {
     "base_uri": "https://localhost:8080/"
    },
    "id": "6JDp8KxyzSyO",
    "outputId": "7cf6a30a-5a80-4c47-f38b-c51e98025b48"
   },
   "outputs": [],
   "source": [
    "medical_pt = prob_medical * prob_status.get('PT', 0) * len(salaries_df)"
   ]
  },
  {
   "cell_type": "code",
   "execution_count": 50,
   "metadata": {},
   "outputs": [],
   "source": [
    "# Your code here: Compute Expected frequency of being \"Other\" and \"FT\". Store the solution in a variable named \"other_ft\""
   ]
  },
  {
   "cell_type": "code",
   "execution_count": 102,
   "metadata": {
    "colab": {
     "base_uri": "https://localhost:8080/"
    },
    "id": "Faj2vgrazSyO",
    "outputId": "bcc9b61f-abf7-44b4-9cc4-57c34f4559b3"
   },
   "outputs": [],
   "source": [
    "prob_other = prob_employee_group.get('Other', 0)\n",
    "other_ft = prob_other * prob_status.get('FT', 0) * len(salaries_df)"
   ]
  },
  {
   "cell_type": "code",
   "execution_count": 51,
   "metadata": {},
   "outputs": [],
   "source": [
    "# Your code here: Compute Expected frequency of being \"Other\" and \"PT\". Store the solution in a variable named \"other_pt\""
   ]
  },
  {
   "cell_type": "code",
   "execution_count": 103,
   "metadata": {
    "colab": {
     "base_uri": "https://localhost:8080/"
    },
    "id": "kmAMpPFyzSyO",
    "outputId": "0de568d8-d0db-471f-bc60-2ddc65cb5e54"
   },
   "outputs": [],
   "source": [
    "other_pt = prob_other * prob_status.get('PT', 0) * len(salaries_df)"
   ]
  },
  {
   "cell_type": "code",
   "execution_count": 52,
   "metadata": {},
   "outputs": [],
   "source": [
    "# Your code here: Compute Expected frequency of being \"Policement\" and \"FT\". Store the solution in a variable named \"policemen_ft\""
   ]
  },
  {
   "cell_type": "code",
   "execution_count": 105,
   "metadata": {
    "colab": {
     "base_uri": "https://localhost:8080/"
    },
    "id": "yUyhx_IezSyO",
    "outputId": "9f9bfaae-d402-4e04-8863-e3ff2bf63ac9"
   },
   "outputs": [],
   "source": [
    "prob_policemen = prob_employee_group.get('Policemen', 0)\n",
    "policemen_ft = prob_policemen * prob_status.get('FT', 0) * len(salaries_df)"
   ]
  },
  {
   "cell_type": "code",
   "execution_count": 53,
   "metadata": {},
   "outputs": [],
   "source": [
    "# Your code here: Compute Expected frequency of being \"Policement\" and \"PT\". Store the solution in a variable named \"policemen_pt\""
   ]
  },
  {
   "cell_type": "code",
   "execution_count": 106,
   "metadata": {
    "colab": {
     "base_uri": "https://localhost:8080/"
    },
    "id": "xU9CcKJSzSyO",
    "outputId": "c19fc385-8048-4f47-9397-46d416f1ffdf"
   },
   "outputs": [],
   "source": [
    "policemen_pt = prob_policemen * prob_status.get('PT', 0) * len(salaries_df)"
   ]
  },
  {
   "cell_type": "markdown",
   "metadata": {
    "id": "XRuFEP-WzSyO"
   },
   "source": [
    "* Store all the expected frequencies of \"FT\" employees in a list \n",
    "* Store all the \"PT\" employees into another list\n",
    "* Create a dictionary with \"FT\" and \"PT\" as keys and as the values use the previous lists\n",
    "* Create a dataframe with this dictionary using pd.DataFrame()"
   ]
  },
  {
   "cell_type": "code",
   "execution_count": 108,
   "metadata": {
    "colab": {
     "base_uri": "https://localhost:8080/",
     "height": 206
    },
    "id": "g6Otm4XUzSyO",
    "outputId": "7bbf7a53-e947-4137-8f03-35fb3b9cc3ee"
   },
   "outputs": [
    {
     "name": "stdout",
     "output_type": "stream",
     "text": [
      "                     FT            PT\n",
      "Firemen     3444.518114   2434.481886\n",
      "Lawyers     1078.645662    762.354338\n",
      "Medical     9001.213096   6361.786904\n",
      "Other      68767.322857  48602.677143\n",
      "Policemen   4804.982660   3396.017340\n"
     ]
    }
   ],
   "source": [
    "expected_ft_list = [firemen_ft, lawyers_ft, medical_ft, other_ft, policemen_ft]\n",
    "expected_pt_list = [firemen_pt, lawyers_pt, medical_pt, other_pt, policemen_pt]\n",
    "\n",
    "expected_dict = {'FT': expected_ft_list, 'PT': expected_pt_list}\n",
    "\n",
    "expected_df = pd.DataFrame(expected_dict, index=['Firemen', 'Lawyers', 'Medical', 'Other', 'Policemen'])\n",
    "\n",
    "print(expected_df)"
   ]
  },
  {
   "cell_type": "markdown",
   "metadata": {
    "id": "serVGf6HzSyP"
   },
   "source": [
    "Now use the \"st.chi2_contingency()\" from scipy.stats [documentation here](https://docs.scipy.org/doc/scipy/reference/generated/scipy.stats.chi2_contingency.html) to conduct a Chi2 test to determine if the diferences between employee groups are statistically significant using a 95% confidence level. Hint: fill the function with a dataframe of actual frequencies."
   ]
  },
  {
   "cell_type": "code",
   "execution_count": 55,
   "metadata": {},
   "outputs": [],
   "source": [
    "# Your code here: (use the st.chi2_contingency() function from scipy.stats to compute:\n",
    "# The Chi2 value\n",
    "# The p-valueYea we \n",
    "# The expected frequencies.\n",
    "# Ho: there is no relationship\n",
    "# Ha: there is relationship differences\n",
    "# p_value = P(table | Ho) = P(table | no relationship) = 1.51e-6 < 0.05"
   ]
  },
  {
   "cell_type": "code",
   "execution_count": 120,
   "metadata": {
    "colab": {
     "base_uri": "https://localhost:8080/"
    },
    "id": "xJ4eZt7UzSyP",
    "outputId": "8c3e8264-fa84-4046-b582-09283ac78611"
   },
   "outputs": [
    {
     "name": "stdout",
     "output_type": "stream",
     "text": [
      "Chi2 Statistic: 2676.6423\n",
      "P-value: 0.0000e+00\n",
      "Expected Frequencies:\n",
      "                          FT            PT\n",
      "employee_group                            \n",
      "Firemen           885.297988    625.702012\n",
      "Lawyer            245.492956    173.507044\n",
      "Medical          2294.978305   1622.021695\n",
      "Other           17794.430966  12576.569034\n",
      "Policemen        1113.799785    787.200215\n"
     ]
    }
   ],
   "source": [
    "from scipy.stats import chi2_contingency\n",
    "\n",
    "actual_df = pd.DataFrame({\n",
    "    'FT': salaries_df[salaries_df['Status'] == 'FT'].groupby('employee_group').size(),\n",
    "    'PT': salaries_df[salaries_df['Status'] == 'PT'].groupby('employee_group').size()\n",
    "})\n",
    "\n",
    "\n",
    "chi2_stat, p_value, _, expected = chi2_contingency(actual_df)\n",
    "\n",
    "print(f\"Chi2 Statistic: {chi2_stat:.4f}\")\n",
    "print(f\"P-value: {p_value:.4e}\")\n",
    "print(\"Expected Frequencies:\")\n",
    "print(pd.DataFrame(expected, index=actual_df.index, columns=['FT', 'PT']))"
   ]
  },
  {
   "cell_type": "markdown",
   "metadata": {
    "id": "HAlxWZjOzSyP"
   },
   "source": [
    "Check if your expected frequencies aggree with the ones obtained with the st.chi2_contingency() function"
   ]
  },
  {
   "cell_type": "code",
   "execution_count": 119,
   "metadata": {
    "id": "AbQbrku9zSyP"
   },
   "outputs": [
    {
     "name": "stdout",
     "output_type": "stream",
     "text": [
      "                     FT            PT\n",
      "Firemen     3444.518114   2434.481886\n",
      "Lawyers     1078.645662    762.354338\n",
      "Medical     9001.213096   6361.786904\n",
      "Other      68767.322857  48602.677143\n",
      "Policemen   4804.982660   3396.017340\n",
      "Expected Frequencies from chi2_contingency:\n",
      "                          FT            PT\n",
      "employee_group                            \n",
      "Firemen           885.297988    625.702012\n",
      "Lawyer            245.492956    173.507044\n",
      "Medical          2294.978305   1622.021695\n",
      "Other           17794.430966  12576.569034\n",
      "Policemen        1113.799785    787.200215\n"
     ]
    }
   ],
   "source": [
    "expected_df = pd.DataFrame(expected_dict, index=['Firemen', 'Lawyers', 'Medical', 'Other', 'Policemen'])\n",
    "print(expected_df)\n",
    "\n",
    "print(\"Expected Frequencies from chi2_contingency:\")\n",
    "print(pd.DataFrame(expected, index=actual_df.index, columns=['FT', 'PT']))\n"
   ]
  }
 ],
 "metadata": {
  "colab": {
   "name": "main_solutions.ipynb",
   "provenance": [],
   "toc_visible": true
  },
  "kernelspec": {
   "display_name": "Python 3 (ipykernel)",
   "language": "python",
   "name": "python3"
  },
  "language_info": {
   "codemirror_mode": {
    "name": "ipython",
    "version": 3
   },
   "file_extension": ".py",
   "mimetype": "text/x-python",
   "name": "python",
   "nbconvert_exporter": "python",
   "pygments_lexer": "ipython3",
   "version": "3.11.5"
  }
 },
 "nbformat": 4,
 "nbformat_minor": 1
}
